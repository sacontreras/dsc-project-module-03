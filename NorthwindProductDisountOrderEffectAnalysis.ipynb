{
 "cells": [
  {
   "cell_type": "markdown",
   "metadata": {},
   "source": [
    "# Project: Northwind Product Discount Order-Effect Analysis\n",
    "\n",
    "The top-level goal of this project is to answer the question:\n",
    "\n",
    "    Does discount amount have a statistically significant effect on the quantity of a product in an order? If so, at what level(s) of discount?\n",
    "\n",
    "Our data set is the Northwind database - a free, open-source dataset created by Microsoft containing data from a fictional company."
   ]
  },
  {
   "cell_type": "markdown",
   "metadata": {},
   "source": [
    "## Approach\n",
    "\n",
    "As is industry standard for Data Science project, I use the OSEMN model:\n",
    "\n",
    "<p><br>\n",
    "<img src=\"https://miro.medium.com/max/3870/1*eE8DP4biqtaIK3aIy1S2zA.png\" width=\"800px\">"
   ]
  },
  {
   "cell_type": "markdown",
   "metadata": {},
   "source": [
    "## Import Libraries"
   ]
  },
  {
   "cell_type": "code",
   "execution_count": 1,
   "metadata": {},
   "outputs": [],
   "source": [
    "import pandas as pd\n",
    "import matplotlib.pyplot as plt\n",
    "import seaborn as sns\n",
    "from IPython.core.display import HTML, Markdown\n",
    "import numpy as np\n",
    "import scjpnlib.utils as scjpnutils\n",
    "from scjpnlib.utils import sql_manager as sqlmgr\n",
    "from statsmodels.formula.api import ols\n",
    "import statsmodels.api as sm\n",
    "import scipy.stats as stats\n",
    "\n",
    "%matplotlib inline\n",
    "%load_ext autoreload\n",
    "%autoreload 2\n",
    "\n",
    "sns.set()"
   ]
  },
  {
   "cell_type": "markdown",
   "metadata": {},
   "source": [
    "<p><br><br>\n",
    "\n",
    "## Obtain the data\n",
    "\n",
    "Luckily, the data has already been gathered for us and is in `Northwind_small.sqlite`, a sqlite database file.\n",
    "\n",
    "The project is based on the data set in this database.\n",
    "\n",
    "Normally from here we would move on to EDA and scrubbing the data.  But before doing so blindly, let's define the scope in order to focus on the goal of the project."
   ]
  },
  {
   "cell_type": "markdown",
   "metadata": {},
   "source": [
    "<br><br>\n",
    "\n",
    "## Define scope of analysis and build hypotheses\n",
    "Again, the goal of the project is to answer the question:\n",
    "\n",
    "    Does discount amount have a statistically significant effect on the quantity of a product in an order? If so, at what level(s) of discount?\n",
    "\n",
    "So let's formulate our initial hypotheses and determine what tables/columns are involved to that end.  If we can limit our scope up front, that should reduce the potential complexity involved in the traditional EDA and data-scrubbing phase.  But, in order to understand the scope involved, we need to have a clear understanding of our hypotheses.\n",
    "\n",
    "The hypotheses are nearly generated for us in the problem statement.  We just need to formalize them mathematically.\n",
    "\n",
    "Looking at the ERD will help us to better understand the details.\n",
    "\n",
    "<img src=\"Northwind_ERD_updated.png\">\n",
    "\n",
    "\n",
    "One point of clarification is that a discount is applied to an entire order (when granted), not an individual product.  So we need to find the set of all unique products over all orders that have been discounted. In this manner, we can partition the data.\n",
    "\n",
    "<p><br>\n",
    "\n",
    "It is clear from the ERD above that we can restrict our scope to the OrderDetail table in order to answer the goal-question.\n",
    "\n",
    "But, in order to provide an answer to our goal-question, we need to find a basis for comparison.  The basis is, of course, records in OrderDetail where Discount = 0 versus those where Discount > 0.  \n",
    "\n",
    "So, we need to first construct the set of unique products over all orders that have had a discount applied.  Let's call this set of unique products appearing on orders that have had a discount applied, $D$.\n",
    "\n",
    "Taking a microscopic view of the problem, given $D$, for each product, $p \\in D$, label the mean quantity of that product ordered with and without a discount applied to orders in which product $p$ appears, thusly:\n",
    "\n",
    "1. $\\mu_p$ is the mean of all quantities of product $p$ appearing on orders WITHOUT a discount\n",
    "2. $\\mu_p^*$ is the mean of all quantities of product $p$ appearing on orders WITH a discount\n",
    "\n",
    "Then, on a product-by-product basis, our null hypothesis is:\n",
    "\n",
    "$H_0$: $\\mu_p^* = \\mu_p$.\n",
    "\n",
    "And, again on a product-by-product basis, our alternate hypothesis is:\n",
    "\n",
    "$H_a$: $\\mu_p^* > \\mu_p$.\n",
    "\n",
    "But we want a cumulative idea of the effect of the discount, not on a product-by-product basis.\n",
    "\n",
    "<p><br><br>\n",
    "So, we redefine our hypotheses as follows:\n",
    "\n",
    "1. let $\\mu$ denote the mean of the sum of quantities of all product $p \\in D$ appearing on orders WITHOUT a discount\n",
    "2. let $\\mu_d$ denote the mean of the sum of quantities of all product $p \\in D$ appearing on orders WITH a discount\n",
    "\n",
    "Then our null hypothesis is:\n",
    "\n",
    "$H_0$: $\\mu_d = \\mu$.\n",
    "\n",
    "And our alternate hypothesis is:\n",
    "\n",
    "$H_a$: $\\mu_d > \\mu$.\n",
    "\n",
    "<br>\n",
    "\n",
    "$\\alpha=0.05$"
   ]
  },
  {
   "cell_type": "markdown",
   "metadata": {},
   "source": [
    "<br><br>\n",
    "\n",
    "Our immediate goal is to get a set of OrderDetail records.  But the first thing we need to do is...\n",
    "\n",
    "<p><br>\n",
    "\n",
    "### Import data set from sqlite database file"
   ]
  },
  {
   "cell_type": "code",
   "execution_count": 2,
   "metadata": {},
   "outputs": [],
   "source": [
    "# import the data set from sqlite database\n",
    "nwsqlitedbmgr = sqlmgr.SQLiteDBManager('Northwind_small.sqlite')"
   ]
  },
  {
   "cell_type": "markdown",
   "metadata": {},
   "source": [
    "Then...\n",
    "\n",
    "<p><br>\n",
    "\n",
    "### Load all tables into data frames for ease of manipulation"
   ]
  },
  {
   "cell_type": "code",
   "execution_count": 3,
   "metadata": {},
   "outputs": [],
   "source": [
    "cur = nwsqlitedbmgr.new_cursor()\n",
    "result = cur.execute(\"SELECT name FROM sqlite_master WHERE type='table';\").fetchall()\n",
    "table_names = sorted(list(zip(*result))[0])\n",
    "cur.close()\n",
    "table_as_df = dict()\n",
    "for tn in table_names:\n",
    "    table_as_df[tn] = nwsqlitedbmgr.sql_query_to_df(f\"SELECT * FROM [{tn}]\")"
   ]
  },
  {
   "cell_type": "markdown",
   "metadata": {},
   "source": [
    "Let's have an initial high-level look at what our data looks like.\n",
    "\n",
    "<p><br>\n",
    "\n",
    "### High-level Summary of data set"
   ]
  },
  {
   "cell_type": "code",
   "execution_count": 4,
   "metadata": {},
   "outputs": [
    {
     "data": {
      "text/html": [
       "Table <b>Category</b>:"
      ],
      "text/plain": [
       "<IPython.core.display.HTML object>"
      ]
     },
     "metadata": {},
     "output_type": "display_data"
    },
    {
     "data": {
      "text/html": [
       "<table border=\"1\" class=\"dataframe\">\n",
       "  <thead>\n",
       "    <tr style=\"text-align: right;\">\n",
       "      <th></th>\n",
       "      <th>Id</th>\n",
       "      <th>CategoryName</th>\n",
       "      <th>Description</th>\n",
       "    </tr>\n",
       "  </thead>\n",
       "  <tbody>\n",
       "    <tr>\n",
       "      <th>0</th>\n",
       "      <td>1</td>\n",
       "      <td>Beverages</td>\n",
       "      <td>Soft drinks, coffees, teas, beers, and ales</td>\n",
       "    </tr>\n",
       "    <tr>\n",
       "      <th>1</th>\n",
       "      <td>2</td>\n",
       "      <td>Condiments</td>\n",
       "      <td>Sweet and savory sauces, relishes, spreads, and seasonings</td>\n",
       "    </tr>\n",
       "    <tr>\n",
       "      <th>2</th>\n",
       "      <td>3</td>\n",
       "      <td>Confections</td>\n",
       "      <td>Desserts, candies, and sweet breads</td>\n",
       "    </tr>\n",
       "    <tr>\n",
       "      <th>3</th>\n",
       "      <td>4</td>\n",
       "      <td>Dairy Products</td>\n",
       "      <td>Cheeses</td>\n",
       "    </tr>\n",
       "    <tr>\n",
       "      <th>4</th>\n",
       "      <td>5</td>\n",
       "      <td>Grains/Cereals</td>\n",
       "      <td>Breads, crackers, pasta, and cereal</td>\n",
       "    </tr>\n",
       "  </tbody>\n",
       "</table>"
      ],
      "text/plain": [
       "<IPython.core.display.HTML object>"
      ]
     },
     "metadata": {},
     "output_type": "display_data"
    },
    {
     "data": {
      "text/html": [
       "<br>5 rows x 3 columns<br><br>"
      ],
      "text/plain": [
       "<IPython.core.display.HTML object>"
      ]
     },
     "metadata": {},
     "output_type": "display_data"
    },
    {
     "name": "stdout",
     "output_type": "stream",
     "text": [
      "<class 'pandas.core.frame.DataFrame'>\n",
      "RangeIndex: 8 entries, 0 to 7\n",
      "Data columns (total 3 columns):\n",
      " #   Column        Non-Null Count  Dtype \n",
      "---  ------        --------------  ----- \n",
      " 0   Id            8 non-null      int64 \n",
      " 1   CategoryName  8 non-null      object\n",
      " 2   Description   8 non-null      object\n",
      "dtypes: int64(1), object(2)\n",
      "memory usage: 320.0+ bytes\n"
     ]
    },
    {
     "data": {
      "text/html": [
       "<p><br><br>"
      ],
      "text/plain": [
       "<IPython.core.display.HTML object>"
      ]
     },
     "metadata": {},
     "output_type": "display_data"
    },
    {
     "data": {
      "text/html": [
       "Table <b>Customer</b>:"
      ],
      "text/plain": [
       "<IPython.core.display.HTML object>"
      ]
     },
     "metadata": {},
     "output_type": "display_data"
    },
    {
     "data": {
      "text/html": [
       "<table border=\"1\" class=\"dataframe\">\n",
       "  <thead>\n",
       "    <tr style=\"text-align: right;\">\n",
       "      <th></th>\n",
       "      <th>Id</th>\n",
       "      <th>CompanyName</th>\n",
       "      <th>ContactName</th>\n",
       "      <th>ContactTitle</th>\n",
       "      <th>Address</th>\n",
       "      <th>City</th>\n",
       "      <th>Region</th>\n",
       "      <th>PostalCode</th>\n",
       "      <th>Country</th>\n",
       "      <th>Phone</th>\n",
       "      <th>Fax</th>\n",
       "    </tr>\n",
       "  </thead>\n",
       "  <tbody>\n",
       "    <tr>\n",
       "      <th>0</th>\n",
       "      <td>ALFKI</td>\n",
       "      <td>Alfreds Futterkiste</td>\n",
       "      <td>Maria Anders</td>\n",
       "      <td>Sales Representative</td>\n",
       "      <td>Obere Str. 57</td>\n",
       "      <td>Berlin</td>\n",
       "      <td>Western Europe</td>\n",
       "      <td>12209</td>\n",
       "      <td>Germany</td>\n",
       "      <td>030-0074321</td>\n",
       "      <td>030-0076545</td>\n",
       "    </tr>\n",
       "    <tr>\n",
       "      <th>1</th>\n",
       "      <td>ANATR</td>\n",
       "      <td>Ana Trujillo Emparedados y helados</td>\n",
       "      <td>Ana Trujillo</td>\n",
       "      <td>Owner</td>\n",
       "      <td>Avda. de la Constitución 2222</td>\n",
       "      <td>México D.F.</td>\n",
       "      <td>Central America</td>\n",
       "      <td>05021</td>\n",
       "      <td>Mexico</td>\n",
       "      <td>(5) 555-4729</td>\n",
       "      <td>(5) 555-3745</td>\n",
       "    </tr>\n",
       "    <tr>\n",
       "      <th>2</th>\n",
       "      <td>ANTON</td>\n",
       "      <td>Antonio Moreno Taquería</td>\n",
       "      <td>Antonio Moreno</td>\n",
       "      <td>Owner</td>\n",
       "      <td>Mataderos  2312</td>\n",
       "      <td>México D.F.</td>\n",
       "      <td>Central America</td>\n",
       "      <td>05023</td>\n",
       "      <td>Mexico</td>\n",
       "      <td>(5) 555-3932</td>\n",
       "      <td>None</td>\n",
       "    </tr>\n",
       "    <tr>\n",
       "      <th>3</th>\n",
       "      <td>AROUT</td>\n",
       "      <td>Around the Horn</td>\n",
       "      <td>Thomas Hardy</td>\n",
       "      <td>Sales Representative</td>\n",
       "      <td>120 Hanover Sq.</td>\n",
       "      <td>London</td>\n",
       "      <td>British Isles</td>\n",
       "      <td>WA1 1DP</td>\n",
       "      <td>UK</td>\n",
       "      <td>(171) 555-7788</td>\n",
       "      <td>(171) 555-6750</td>\n",
       "    </tr>\n",
       "    <tr>\n",
       "      <th>4</th>\n",
       "      <td>BERGS</td>\n",
       "      <td>Berglunds snabbköp</td>\n",
       "      <td>Christina Berglund</td>\n",
       "      <td>Order Administrator</td>\n",
       "      <td>Berguvsvägen  8</td>\n",
       "      <td>Luleå</td>\n",
       "      <td>Northern Europe</td>\n",
       "      <td>S-958 22</td>\n",
       "      <td>Sweden</td>\n",
       "      <td>0921-12 34 65</td>\n",
       "      <td>0921-12 34 67</td>\n",
       "    </tr>\n",
       "  </tbody>\n",
       "</table>"
      ],
      "text/plain": [
       "<IPython.core.display.HTML object>"
      ]
     },
     "metadata": {},
     "output_type": "display_data"
    },
    {
     "data": {
      "text/html": [
       "<br>5 rows x 11 columns<br><br>"
      ],
      "text/plain": [
       "<IPython.core.display.HTML object>"
      ]
     },
     "metadata": {},
     "output_type": "display_data"
    },
    {
     "name": "stdout",
     "output_type": "stream",
     "text": [
      "<class 'pandas.core.frame.DataFrame'>\n",
      "RangeIndex: 91 entries, 0 to 90\n",
      "Data columns (total 11 columns):\n",
      " #   Column        Non-Null Count  Dtype \n",
      "---  ------        --------------  ----- \n",
      " 0   Id            91 non-null     object\n",
      " 1   CompanyName   91 non-null     object\n",
      " 2   ContactName   91 non-null     object\n",
      " 3   ContactTitle  91 non-null     object\n",
      " 4   Address       91 non-null     object\n",
      " 5   City          91 non-null     object\n",
      " 6   Region        91 non-null     object\n",
      " 7   PostalCode    90 non-null     object\n",
      " 8   Country       91 non-null     object\n",
      " 9   Phone         91 non-null     object\n",
      " 10  Fax           69 non-null     object\n",
      "dtypes: object(11)\n",
      "memory usage: 7.9+ KB\n"
     ]
    },
    {
     "data": {
      "text/html": [
       "<p><br><br>"
      ],
      "text/plain": [
       "<IPython.core.display.HTML object>"
      ]
     },
     "metadata": {},
     "output_type": "display_data"
    },
    {
     "data": {
      "text/html": [
       "Table <b>CustomerCustomerDemo</b>:"
      ],
      "text/plain": [
       "<IPython.core.display.HTML object>"
      ]
     },
     "metadata": {},
     "output_type": "display_data"
    },
    {
     "data": {
      "text/html": [
       "<table border=\"1\" class=\"dataframe\">\n",
       "  <thead>\n",
       "    <tr style=\"text-align: right;\">\n",
       "      <th></th>\n",
       "      <th>Id</th>\n",
       "      <th>CustomerTypeId</th>\n",
       "    </tr>\n",
       "  </thead>\n",
       "  <tbody>\n",
       "  </tbody>\n",
       "</table>"
      ],
      "text/plain": [
       "<IPython.core.display.HTML object>"
      ]
     },
     "metadata": {},
     "output_type": "display_data"
    },
    {
     "data": {
      "text/html": [
       "<br>0 rows x 2 columns<br><br>"
      ],
      "text/plain": [
       "<IPython.core.display.HTML object>"
      ]
     },
     "metadata": {},
     "output_type": "display_data"
    },
    {
     "name": "stdout",
     "output_type": "stream",
     "text": [
      "<class 'pandas.core.frame.DataFrame'>\n",
      "Index: 0 entries\n",
      "Data columns (total 2 columns):\n",
      " #   Column          Non-Null Count  Dtype \n",
      "---  ------          --------------  ----- \n",
      " 0   Id              0 non-null      object\n",
      " 1   CustomerTypeId  0 non-null      object\n",
      "dtypes: object(2)\n",
      "memory usage: 0.0+ bytes\n"
     ]
    },
    {
     "data": {
      "text/html": [
       "<p><br><br>"
      ],
      "text/plain": [
       "<IPython.core.display.HTML object>"
      ]
     },
     "metadata": {},
     "output_type": "display_data"
    },
    {
     "data": {
      "text/html": [
       "Table <b>CustomerDemographic</b>:"
      ],
      "text/plain": [
       "<IPython.core.display.HTML object>"
      ]
     },
     "metadata": {},
     "output_type": "display_data"
    },
    {
     "data": {
      "text/html": [
       "<table border=\"1\" class=\"dataframe\">\n",
       "  <thead>\n",
       "    <tr style=\"text-align: right;\">\n",
       "      <th></th>\n",
       "      <th>Id</th>\n",
       "      <th>CustomerDesc</th>\n",
       "    </tr>\n",
       "  </thead>\n",
       "  <tbody>\n",
       "  </tbody>\n",
       "</table>"
      ],
      "text/plain": [
       "<IPython.core.display.HTML object>"
      ]
     },
     "metadata": {},
     "output_type": "display_data"
    },
    {
     "data": {
      "text/html": [
       "<br>0 rows x 2 columns<br><br>"
      ],
      "text/plain": [
       "<IPython.core.display.HTML object>"
      ]
     },
     "metadata": {},
     "output_type": "display_data"
    },
    {
     "name": "stdout",
     "output_type": "stream",
     "text": [
      "<class 'pandas.core.frame.DataFrame'>\n",
      "Index: 0 entries\n",
      "Data columns (total 2 columns):\n",
      " #   Column        Non-Null Count  Dtype \n",
      "---  ------        --------------  ----- \n",
      " 0   Id            0 non-null      object\n",
      " 1   CustomerDesc  0 non-null      object\n",
      "dtypes: object(2)\n",
      "memory usage: 0.0+ bytes\n"
     ]
    },
    {
     "data": {
      "text/html": [
       "<p><br><br>"
      ],
      "text/plain": [
       "<IPython.core.display.HTML object>"
      ]
     },
     "metadata": {},
     "output_type": "display_data"
    },
    {
     "data": {
      "text/html": [
       "Table <b>Employee</b>:"
      ],
      "text/plain": [
       "<IPython.core.display.HTML object>"
      ]
     },
     "metadata": {},
     "output_type": "display_data"
    },
    {
     "data": {
      "text/html": [
       "<table border=\"1\" class=\"dataframe\">\n",
       "  <thead>\n",
       "    <tr style=\"text-align: right;\">\n",
       "      <th></th>\n",
       "      <th>Id</th>\n",
       "      <th>LastName</th>\n",
       "      <th>FirstName</th>\n",
       "      <th>Title</th>\n",
       "      <th>TitleOfCourtesy</th>\n",
       "      <th>BirthDate</th>\n",
       "      <th>HireDate</th>\n",
       "      <th>Address</th>\n",
       "      <th>City</th>\n",
       "      <th>Region</th>\n",
       "      <th>PostalCode</th>\n",
       "      <th>Country</th>\n",
       "      <th>HomePhone</th>\n",
       "      <th>Extension</th>\n",
       "      <th>Photo</th>\n",
       "      <th>Notes</th>\n",
       "      <th>ReportsTo</th>\n",
       "      <th>PhotoPath</th>\n",
       "    </tr>\n",
       "  </thead>\n",
       "  <tbody>\n",
       "    <tr>\n",
       "      <th>0</th>\n",
       "      <td>1</td>\n",
       "      <td>Davolio</td>\n",
       "      <td>Nancy</td>\n",
       "      <td>Sales Representative</td>\n",
       "      <td>Ms.</td>\n",
       "      <td>1980-12-08</td>\n",
       "      <td>2024-05-01</td>\n",
       "      <td>507 - 20th Ave. E. Apt. 2A</td>\n",
       "      <td>Seattle</td>\n",
       "      <td>North America</td>\n",
       "      <td>98122</td>\n",
       "      <td>USA</td>\n",
       "      <td>(206) 555-9857</td>\n",
       "      <td>5467</td>\n",
       "      <td>None</td>\n",
       "      <td>Education includes a BA in psychology from Colorado State University in 1970.  She also completed 'The Art of the Cold Call.'  Nancy is a member of Toastmasters International.</td>\n",
       "      <td>2.0</td>\n",
       "      <td>http://accweb/emmployees/davolio.bmp</td>\n",
       "    </tr>\n",
       "    <tr>\n",
       "      <th>1</th>\n",
       "      <td>2</td>\n",
       "      <td>Fuller</td>\n",
       "      <td>Andrew</td>\n",
       "      <td>Vice President, Sales</td>\n",
       "      <td>Dr.</td>\n",
       "      <td>1984-02-19</td>\n",
       "      <td>2024-08-14</td>\n",
       "      <td>908 W. Capital Way</td>\n",
       "      <td>Tacoma</td>\n",
       "      <td>North America</td>\n",
       "      <td>98401</td>\n",
       "      <td>USA</td>\n",
       "      <td>(206) 555-9482</td>\n",
       "      <td>3457</td>\n",
       "      <td>None</td>\n",
       "      <td>Andrew received his BTS commercial in 1974 and a Ph.D. in international marketing from the University of Dallas in 1981.  He is fluent in French and Italian and reads German.  He joined the company as a sales representative, was promoted to sales manager in January 1992 and to vice president of sales in March 1993.  Andrew is a member of the Sales Management Roundtable, the Seattle Chamber of Commerce, and the Pacific Rim Importers Association.</td>\n",
       "      <td>NaN</td>\n",
       "      <td>http://accweb/emmployees/fuller.bmp</td>\n",
       "    </tr>\n",
       "    <tr>\n",
       "      <th>2</th>\n",
       "      <td>3</td>\n",
       "      <td>Leverling</td>\n",
       "      <td>Janet</td>\n",
       "      <td>Sales Representative</td>\n",
       "      <td>Ms.</td>\n",
       "      <td>1995-08-30</td>\n",
       "      <td>2024-04-01</td>\n",
       "      <td>722 Moss Bay Blvd.</td>\n",
       "      <td>Kirkland</td>\n",
       "      <td>North America</td>\n",
       "      <td>98033</td>\n",
       "      <td>USA</td>\n",
       "      <td>(206) 555-3412</td>\n",
       "      <td>3355</td>\n",
       "      <td>None</td>\n",
       "      <td>Janet has a BS degree in chemistry from Boston College (1984).  She has also completed a certificate program in food retailing management.  Janet was hired as a sales associate in 1991 and promoted to sales representative in February 1992.</td>\n",
       "      <td>2.0</td>\n",
       "      <td>http://accweb/emmployees/leverling.bmp</td>\n",
       "    </tr>\n",
       "    <tr>\n",
       "      <th>3</th>\n",
       "      <td>4</td>\n",
       "      <td>Peacock</td>\n",
       "      <td>Margaret</td>\n",
       "      <td>Sales Representative</td>\n",
       "      <td>Mrs.</td>\n",
       "      <td>1969-09-19</td>\n",
       "      <td>2025-05-03</td>\n",
       "      <td>4110 Old Redmond Rd.</td>\n",
       "      <td>Redmond</td>\n",
       "      <td>North America</td>\n",
       "      <td>98052</td>\n",
       "      <td>USA</td>\n",
       "      <td>(206) 555-8122</td>\n",
       "      <td>5176</td>\n",
       "      <td>None</td>\n",
       "      <td>Margaret holds a BA in English literature from Concordia College (1958) and an MA from the American Institute of Culinary Arts (1966).  She was assigned to the London office temporarily from July through November 1992.</td>\n",
       "      <td>2.0</td>\n",
       "      <td>http://accweb/emmployees/peacock.bmp</td>\n",
       "    </tr>\n",
       "    <tr>\n",
       "      <th>4</th>\n",
       "      <td>5</td>\n",
       "      <td>Buchanan</td>\n",
       "      <td>Steven</td>\n",
       "      <td>Sales Manager</td>\n",
       "      <td>Mr.</td>\n",
       "      <td>1987-03-04</td>\n",
       "      <td>2025-10-17</td>\n",
       "      <td>14 Garrett Hill</td>\n",
       "      <td>London</td>\n",
       "      <td>British Isles</td>\n",
       "      <td>SW1 8JR</td>\n",
       "      <td>UK</td>\n",
       "      <td>(71) 555-4848</td>\n",
       "      <td>3453</td>\n",
       "      <td>None</td>\n",
       "      <td>Steven Buchanan graduated from St. Andrews University, Scotland, with a BSC degree in 1976.  Upon joining the company as a sales representative in 1992, he spent 6 months in an orientation program at the Seattle office and then returned to his permanent post in London.  He was promoted to sales manager in March 1993.  Mr. Buchanan has completed the courses 'Successful Telemarketing' and 'International Sales Management.'  He is fluent in French.</td>\n",
       "      <td>2.0</td>\n",
       "      <td>http://accweb/emmployees/buchanan.bmp</td>\n",
       "    </tr>\n",
       "  </tbody>\n",
       "</table>"
      ],
      "text/plain": [
       "<IPython.core.display.HTML object>"
      ]
     },
     "metadata": {},
     "output_type": "display_data"
    },
    {
     "data": {
      "text/html": [
       "<br>5 rows x 18 columns<br><br>"
      ],
      "text/plain": [
       "<IPython.core.display.HTML object>"
      ]
     },
     "metadata": {},
     "output_type": "display_data"
    },
    {
     "name": "stdout",
     "output_type": "stream",
     "text": [
      "<class 'pandas.core.frame.DataFrame'>\n",
      "RangeIndex: 9 entries, 0 to 8\n",
      "Data columns (total 18 columns):\n",
      " #   Column           Non-Null Count  Dtype  \n",
      "---  ------           --------------  -----  \n",
      " 0   Id               9 non-null      int64  \n",
      " 1   LastName         9 non-null      object \n",
      " 2   FirstName        9 non-null      object \n",
      " 3   Title            9 non-null      object \n",
      " 4   TitleOfCourtesy  9 non-null      object \n",
      " 5   BirthDate        9 non-null      object \n",
      " 6   HireDate         9 non-null      object \n",
      " 7   Address          9 non-null      object \n",
      " 8   City             9 non-null      object \n",
      " 9   Region           9 non-null      object \n",
      " 10  PostalCode       9 non-null      object \n",
      " 11  Country          9 non-null      object \n",
      " 12  HomePhone        9 non-null      object \n",
      " 13  Extension        9 non-null      object \n",
      " 14  Photo            0 non-null      object \n",
      " 15  Notes            9 non-null      object \n",
      " 16  ReportsTo        8 non-null      float64\n",
      " 17  PhotoPath        9 non-null      object \n",
      "dtypes: float64(1), int64(1), object(16)\n",
      "memory usage: 1.4+ KB\n"
     ]
    },
    {
     "data": {
      "text/html": [
       "<p><br><br>"
      ],
      "text/plain": [
       "<IPython.core.display.HTML object>"
      ]
     },
     "metadata": {},
     "output_type": "display_data"
    },
    {
     "data": {
      "text/html": [
       "Table <b>EmployeeTerritory</b>:"
      ],
      "text/plain": [
       "<IPython.core.display.HTML object>"
      ]
     },
     "metadata": {},
     "output_type": "display_data"
    },
    {
     "data": {
      "text/html": [
       "<table border=\"1\" class=\"dataframe\">\n",
       "  <thead>\n",
       "    <tr style=\"text-align: right;\">\n",
       "      <th></th>\n",
       "      <th>Id</th>\n",
       "      <th>EmployeeId</th>\n",
       "      <th>TerritoryId</th>\n",
       "    </tr>\n",
       "  </thead>\n",
       "  <tbody>\n",
       "    <tr>\n",
       "      <th>0</th>\n",
       "      <td>1/06897</td>\n",
       "      <td>1</td>\n",
       "      <td>06897</td>\n",
       "    </tr>\n",
       "    <tr>\n",
       "      <th>1</th>\n",
       "      <td>1/19713</td>\n",
       "      <td>1</td>\n",
       "      <td>19713</td>\n",
       "    </tr>\n",
       "    <tr>\n",
       "      <th>2</th>\n",
       "      <td>2/01581</td>\n",
       "      <td>2</td>\n",
       "      <td>01581</td>\n",
       "    </tr>\n",
       "    <tr>\n",
       "      <th>3</th>\n",
       "      <td>2/01730</td>\n",
       "      <td>2</td>\n",
       "      <td>01730</td>\n",
       "    </tr>\n",
       "    <tr>\n",
       "      <th>4</th>\n",
       "      <td>2/01833</td>\n",
       "      <td>2</td>\n",
       "      <td>01833</td>\n",
       "    </tr>\n",
       "  </tbody>\n",
       "</table>"
      ],
      "text/plain": [
       "<IPython.core.display.HTML object>"
      ]
     },
     "metadata": {},
     "output_type": "display_data"
    },
    {
     "data": {
      "text/html": [
       "<br>5 rows x 3 columns<br><br>"
      ],
      "text/plain": [
       "<IPython.core.display.HTML object>"
      ]
     },
     "metadata": {},
     "output_type": "display_data"
    },
    {
     "name": "stdout",
     "output_type": "stream",
     "text": [
      "<class 'pandas.core.frame.DataFrame'>\n",
      "RangeIndex: 49 entries, 0 to 48\n",
      "Data columns (total 3 columns):\n",
      " #   Column       Non-Null Count  Dtype \n",
      "---  ------       --------------  ----- \n",
      " 0   Id           49 non-null     object\n",
      " 1   EmployeeId   49 non-null     int64 \n",
      " 2   TerritoryId  49 non-null     object\n",
      "dtypes: int64(1), object(2)\n",
      "memory usage: 1.3+ KB\n"
     ]
    },
    {
     "data": {
      "text/html": [
       "<p><br><br>"
      ],
      "text/plain": [
       "<IPython.core.display.HTML object>"
      ]
     },
     "metadata": {},
     "output_type": "display_data"
    },
    {
     "data": {
      "text/html": [
       "Table <b>Order</b>:"
      ],
      "text/plain": [
       "<IPython.core.display.HTML object>"
      ]
     },
     "metadata": {},
     "output_type": "display_data"
    },
    {
     "data": {
      "text/html": [
       "<table border=\"1\" class=\"dataframe\">\n",
       "  <thead>\n",
       "    <tr style=\"text-align: right;\">\n",
       "      <th></th>\n",
       "      <th>Id</th>\n",
       "      <th>CustomerId</th>\n",
       "      <th>EmployeeId</th>\n",
       "      <th>OrderDate</th>\n",
       "      <th>RequiredDate</th>\n",
       "      <th>ShippedDate</th>\n",
       "      <th>ShipVia</th>\n",
       "      <th>Freight</th>\n",
       "      <th>ShipName</th>\n",
       "      <th>ShipAddress</th>\n",
       "      <th>ShipCity</th>\n",
       "      <th>ShipRegion</th>\n",
       "      <th>ShipPostalCode</th>\n",
       "      <th>ShipCountry</th>\n",
       "    </tr>\n",
       "  </thead>\n",
       "  <tbody>\n",
       "    <tr>\n",
       "      <th>0</th>\n",
       "      <td>10248</td>\n",
       "      <td>VINET</td>\n",
       "      <td>5</td>\n",
       "      <td>2012-07-04</td>\n",
       "      <td>2012-08-01</td>\n",
       "      <td>2012-07-16</td>\n",
       "      <td>3</td>\n",
       "      <td>32.38</td>\n",
       "      <td>Vins et alcools Chevalier</td>\n",
       "      <td>59 rue de l'Abbaye</td>\n",
       "      <td>Reims</td>\n",
       "      <td>Western Europe</td>\n",
       "      <td>51100</td>\n",
       "      <td>France</td>\n",
       "    </tr>\n",
       "    <tr>\n",
       "      <th>1</th>\n",
       "      <td>10249</td>\n",
       "      <td>TOMSP</td>\n",
       "      <td>6</td>\n",
       "      <td>2012-07-05</td>\n",
       "      <td>2012-08-16</td>\n",
       "      <td>2012-07-10</td>\n",
       "      <td>1</td>\n",
       "      <td>11.61</td>\n",
       "      <td>Toms Spezialitäten</td>\n",
       "      <td>Luisenstr. 48</td>\n",
       "      <td>Münster</td>\n",
       "      <td>Western Europe</td>\n",
       "      <td>44087</td>\n",
       "      <td>Germany</td>\n",
       "    </tr>\n",
       "    <tr>\n",
       "      <th>2</th>\n",
       "      <td>10250</td>\n",
       "      <td>HANAR</td>\n",
       "      <td>4</td>\n",
       "      <td>2012-07-08</td>\n",
       "      <td>2012-08-05</td>\n",
       "      <td>2012-07-12</td>\n",
       "      <td>2</td>\n",
       "      <td>65.83</td>\n",
       "      <td>Hanari Carnes</td>\n",
       "      <td>Rua do Paço, 67</td>\n",
       "      <td>Rio de Janeiro</td>\n",
       "      <td>South America</td>\n",
       "      <td>05454-876</td>\n",
       "      <td>Brazil</td>\n",
       "    </tr>\n",
       "    <tr>\n",
       "      <th>3</th>\n",
       "      <td>10251</td>\n",
       "      <td>VICTE</td>\n",
       "      <td>3</td>\n",
       "      <td>2012-07-08</td>\n",
       "      <td>2012-08-05</td>\n",
       "      <td>2012-07-15</td>\n",
       "      <td>1</td>\n",
       "      <td>41.34</td>\n",
       "      <td>Victuailles en stock</td>\n",
       "      <td>2, rue du Commerce</td>\n",
       "      <td>Lyon</td>\n",
       "      <td>Western Europe</td>\n",
       "      <td>69004</td>\n",
       "      <td>France</td>\n",
       "    </tr>\n",
       "    <tr>\n",
       "      <th>4</th>\n",
       "      <td>10252</td>\n",
       "      <td>SUPRD</td>\n",
       "      <td>4</td>\n",
       "      <td>2012-07-09</td>\n",
       "      <td>2012-08-06</td>\n",
       "      <td>2012-07-11</td>\n",
       "      <td>2</td>\n",
       "      <td>51.30</td>\n",
       "      <td>Suprêmes délices</td>\n",
       "      <td>Boulevard Tirou, 255</td>\n",
       "      <td>Charleroi</td>\n",
       "      <td>Western Europe</td>\n",
       "      <td>B-6000</td>\n",
       "      <td>Belgium</td>\n",
       "    </tr>\n",
       "  </tbody>\n",
       "</table>"
      ],
      "text/plain": [
       "<IPython.core.display.HTML object>"
      ]
     },
     "metadata": {},
     "output_type": "display_data"
    },
    {
     "data": {
      "text/html": [
       "<br>5 rows x 14 columns<br><br>"
      ],
      "text/plain": [
       "<IPython.core.display.HTML object>"
      ]
     },
     "metadata": {},
     "output_type": "display_data"
    },
    {
     "name": "stdout",
     "output_type": "stream",
     "text": [
      "<class 'pandas.core.frame.DataFrame'>\n",
      "RangeIndex: 830 entries, 0 to 829\n",
      "Data columns (total 14 columns):\n",
      " #   Column          Non-Null Count  Dtype  \n",
      "---  ------          --------------  -----  \n",
      " 0   Id              830 non-null    int64  \n",
      " 1   CustomerId      830 non-null    object \n",
      " 2   EmployeeId      830 non-null    int64  \n",
      " 3   OrderDate       830 non-null    object \n",
      " 4   RequiredDate    830 non-null    object \n",
      " 5   ShippedDate     809 non-null    object \n",
      " 6   ShipVia         830 non-null    int64  \n",
      " 7   Freight         830 non-null    float64\n",
      " 8   ShipName        830 non-null    object \n",
      " 9   ShipAddress     830 non-null    object \n",
      " 10  ShipCity        830 non-null    object \n",
      " 11  ShipRegion      830 non-null    object \n",
      " 12  ShipPostalCode  811 non-null    object \n",
      " 13  ShipCountry     830 non-null    object \n",
      "dtypes: float64(1), int64(3), object(10)\n",
      "memory usage: 90.9+ KB\n"
     ]
    },
    {
     "data": {
      "text/html": [
       "<p><br><br>"
      ],
      "text/plain": [
       "<IPython.core.display.HTML object>"
      ]
     },
     "metadata": {},
     "output_type": "display_data"
    },
    {
     "data": {
      "text/html": [
       "Table <b>OrderDetail</b>:"
      ],
      "text/plain": [
       "<IPython.core.display.HTML object>"
      ]
     },
     "metadata": {},
     "output_type": "display_data"
    },
    {
     "data": {
      "text/html": [
       "<table border=\"1\" class=\"dataframe\">\n",
       "  <thead>\n",
       "    <tr style=\"text-align: right;\">\n",
       "      <th></th>\n",
       "      <th>Id</th>\n",
       "      <th>OrderId</th>\n",
       "      <th>ProductId</th>\n",
       "      <th>UnitPrice</th>\n",
       "      <th>Quantity</th>\n",
       "      <th>Discount</th>\n",
       "    </tr>\n",
       "  </thead>\n",
       "  <tbody>\n",
       "    <tr>\n",
       "      <th>0</th>\n",
       "      <td>10248/11</td>\n",
       "      <td>10248</td>\n",
       "      <td>11</td>\n",
       "      <td>14.0</td>\n",
       "      <td>12</td>\n",
       "      <td>0.0</td>\n",
       "    </tr>\n",
       "    <tr>\n",
       "      <th>1</th>\n",
       "      <td>10248/42</td>\n",
       "      <td>10248</td>\n",
       "      <td>42</td>\n",
       "      <td>9.8</td>\n",
       "      <td>10</td>\n",
       "      <td>0.0</td>\n",
       "    </tr>\n",
       "    <tr>\n",
       "      <th>2</th>\n",
       "      <td>10248/72</td>\n",
       "      <td>10248</td>\n",
       "      <td>72</td>\n",
       "      <td>34.8</td>\n",
       "      <td>5</td>\n",
       "      <td>0.0</td>\n",
       "    </tr>\n",
       "    <tr>\n",
       "      <th>3</th>\n",
       "      <td>10249/14</td>\n",
       "      <td>10249</td>\n",
       "      <td>14</td>\n",
       "      <td>18.6</td>\n",
       "      <td>9</td>\n",
       "      <td>0.0</td>\n",
       "    </tr>\n",
       "    <tr>\n",
       "      <th>4</th>\n",
       "      <td>10249/51</td>\n",
       "      <td>10249</td>\n",
       "      <td>51</td>\n",
       "      <td>42.4</td>\n",
       "      <td>40</td>\n",
       "      <td>0.0</td>\n",
       "    </tr>\n",
       "  </tbody>\n",
       "</table>"
      ],
      "text/plain": [
       "<IPython.core.display.HTML object>"
      ]
     },
     "metadata": {},
     "output_type": "display_data"
    },
    {
     "data": {
      "text/html": [
       "<br>5 rows x 6 columns<br><br>"
      ],
      "text/plain": [
       "<IPython.core.display.HTML object>"
      ]
     },
     "metadata": {},
     "output_type": "display_data"
    },
    {
     "name": "stdout",
     "output_type": "stream",
     "text": [
      "<class 'pandas.core.frame.DataFrame'>\n",
      "RangeIndex: 2155 entries, 0 to 2154\n",
      "Data columns (total 6 columns):\n",
      " #   Column     Non-Null Count  Dtype  \n",
      "---  ------     --------------  -----  \n",
      " 0   Id         2155 non-null   object \n",
      " 1   OrderId    2155 non-null   int64  \n",
      " 2   ProductId  2155 non-null   int64  \n",
      " 3   UnitPrice  2155 non-null   float64\n",
      " 4   Quantity   2155 non-null   int64  \n",
      " 5   Discount   2155 non-null   float64\n",
      "dtypes: float64(2), int64(3), object(1)\n",
      "memory usage: 101.1+ KB\n"
     ]
    },
    {
     "data": {
      "text/html": [
       "<p><br><br>"
      ],
      "text/plain": [
       "<IPython.core.display.HTML object>"
      ]
     },
     "metadata": {},
     "output_type": "display_data"
    },
    {
     "data": {
      "text/html": [
       "Table <b>Product</b>:"
      ],
      "text/plain": [
       "<IPython.core.display.HTML object>"
      ]
     },
     "metadata": {},
     "output_type": "display_data"
    },
    {
     "data": {
      "text/html": [
       "<table border=\"1\" class=\"dataframe\">\n",
       "  <thead>\n",
       "    <tr style=\"text-align: right;\">\n",
       "      <th></th>\n",
       "      <th>Id</th>\n",
       "      <th>ProductName</th>\n",
       "      <th>SupplierId</th>\n",
       "      <th>CategoryId</th>\n",
       "      <th>QuantityPerUnit</th>\n",
       "      <th>UnitPrice</th>\n",
       "      <th>UnitsInStock</th>\n",
       "      <th>UnitsOnOrder</th>\n",
       "      <th>ReorderLevel</th>\n",
       "      <th>Discontinued</th>\n",
       "    </tr>\n",
       "  </thead>\n",
       "  <tbody>\n",
       "    <tr>\n",
       "      <th>0</th>\n",
       "      <td>1</td>\n",
       "      <td>Chai</td>\n",
       "      <td>1</td>\n",
       "      <td>1</td>\n",
       "      <td>10 boxes x 20 bags</td>\n",
       "      <td>18.00</td>\n",
       "      <td>39</td>\n",
       "      <td>0</td>\n",
       "      <td>10</td>\n",
       "      <td>0</td>\n",
       "    </tr>\n",
       "    <tr>\n",
       "      <th>1</th>\n",
       "      <td>2</td>\n",
       "      <td>Chang</td>\n",
       "      <td>1</td>\n",
       "      <td>1</td>\n",
       "      <td>24 - 12 oz bottles</td>\n",
       "      <td>19.00</td>\n",
       "      <td>17</td>\n",
       "      <td>40</td>\n",
       "      <td>25</td>\n",
       "      <td>0</td>\n",
       "    </tr>\n",
       "    <tr>\n",
       "      <th>2</th>\n",
       "      <td>3</td>\n",
       "      <td>Aniseed Syrup</td>\n",
       "      <td>1</td>\n",
       "      <td>2</td>\n",
       "      <td>12 - 550 ml bottles</td>\n",
       "      <td>10.00</td>\n",
       "      <td>13</td>\n",
       "      <td>70</td>\n",
       "      <td>25</td>\n",
       "      <td>0</td>\n",
       "    </tr>\n",
       "    <tr>\n",
       "      <th>3</th>\n",
       "      <td>4</td>\n",
       "      <td>Chef Anton's Cajun Seasoning</td>\n",
       "      <td>2</td>\n",
       "      <td>2</td>\n",
       "      <td>48 - 6 oz jars</td>\n",
       "      <td>22.00</td>\n",
       "      <td>53</td>\n",
       "      <td>0</td>\n",
       "      <td>0</td>\n",
       "      <td>0</td>\n",
       "    </tr>\n",
       "    <tr>\n",
       "      <th>4</th>\n",
       "      <td>5</td>\n",
       "      <td>Chef Anton's Gumbo Mix</td>\n",
       "      <td>2</td>\n",
       "      <td>2</td>\n",
       "      <td>36 boxes</td>\n",
       "      <td>21.35</td>\n",
       "      <td>0</td>\n",
       "      <td>0</td>\n",
       "      <td>0</td>\n",
       "      <td>1</td>\n",
       "    </tr>\n",
       "  </tbody>\n",
       "</table>"
      ],
      "text/plain": [
       "<IPython.core.display.HTML object>"
      ]
     },
     "metadata": {},
     "output_type": "display_data"
    },
    {
     "data": {
      "text/html": [
       "<br>5 rows x 10 columns<br><br>"
      ],
      "text/plain": [
       "<IPython.core.display.HTML object>"
      ]
     },
     "metadata": {},
     "output_type": "display_data"
    },
    {
     "name": "stdout",
     "output_type": "stream",
     "text": [
      "<class 'pandas.core.frame.DataFrame'>\n",
      "RangeIndex: 77 entries, 0 to 76\n",
      "Data columns (total 10 columns):\n",
      " #   Column           Non-Null Count  Dtype  \n",
      "---  ------           --------------  -----  \n",
      " 0   Id               77 non-null     int64  \n",
      " 1   ProductName      77 non-null     object \n",
      " 2   SupplierId       77 non-null     int64  \n",
      " 3   CategoryId       77 non-null     int64  \n",
      " 4   QuantityPerUnit  77 non-null     object \n",
      " 5   UnitPrice        77 non-null     float64\n",
      " 6   UnitsInStock     77 non-null     int64  \n",
      " 7   UnitsOnOrder     77 non-null     int64  \n",
      " 8   ReorderLevel     77 non-null     int64  \n",
      " 9   Discontinued     77 non-null     int64  \n",
      "dtypes: float64(1), int64(7), object(2)\n",
      "memory usage: 6.1+ KB\n"
     ]
    },
    {
     "data": {
      "text/html": [
       "<p><br><br>"
      ],
      "text/plain": [
       "<IPython.core.display.HTML object>"
      ]
     },
     "metadata": {},
     "output_type": "display_data"
    },
    {
     "data": {
      "text/html": [
       "Table <b>Region</b>:"
      ],
      "text/plain": [
       "<IPython.core.display.HTML object>"
      ]
     },
     "metadata": {},
     "output_type": "display_data"
    },
    {
     "data": {
      "text/html": [
       "<table border=\"1\" class=\"dataframe\">\n",
       "  <thead>\n",
       "    <tr style=\"text-align: right;\">\n",
       "      <th></th>\n",
       "      <th>Id</th>\n",
       "      <th>RegionDescription</th>\n",
       "    </tr>\n",
       "  </thead>\n",
       "  <tbody>\n",
       "    <tr>\n",
       "      <th>0</th>\n",
       "      <td>1</td>\n",
       "      <td>Eastern</td>\n",
       "    </tr>\n",
       "    <tr>\n",
       "      <th>1</th>\n",
       "      <td>2</td>\n",
       "      <td>Western</td>\n",
       "    </tr>\n",
       "    <tr>\n",
       "      <th>2</th>\n",
       "      <td>3</td>\n",
       "      <td>Northern</td>\n",
       "    </tr>\n",
       "    <tr>\n",
       "      <th>3</th>\n",
       "      <td>4</td>\n",
       "      <td>Southern</td>\n",
       "    </tr>\n",
       "  </tbody>\n",
       "</table>"
      ],
      "text/plain": [
       "<IPython.core.display.HTML object>"
      ]
     },
     "metadata": {},
     "output_type": "display_data"
    },
    {
     "data": {
      "text/html": [
       "<br>4 rows x 2 columns<br><br>"
      ],
      "text/plain": [
       "<IPython.core.display.HTML object>"
      ]
     },
     "metadata": {},
     "output_type": "display_data"
    },
    {
     "name": "stdout",
     "output_type": "stream",
     "text": [
      "<class 'pandas.core.frame.DataFrame'>\n",
      "RangeIndex: 4 entries, 0 to 3\n",
      "Data columns (total 2 columns):\n",
      " #   Column             Non-Null Count  Dtype \n",
      "---  ------             --------------  ----- \n",
      " 0   Id                 4 non-null      int64 \n",
      " 1   RegionDescription  4 non-null      object\n",
      "dtypes: int64(1), object(1)\n",
      "memory usage: 192.0+ bytes\n"
     ]
    },
    {
     "data": {
      "text/html": [
       "<p><br><br>"
      ],
      "text/plain": [
       "<IPython.core.display.HTML object>"
      ]
     },
     "metadata": {},
     "output_type": "display_data"
    },
    {
     "data": {
      "text/html": [
       "Table <b>Shipper</b>:"
      ],
      "text/plain": [
       "<IPython.core.display.HTML object>"
      ]
     },
     "metadata": {},
     "output_type": "display_data"
    },
    {
     "data": {
      "text/html": [
       "<table border=\"1\" class=\"dataframe\">\n",
       "  <thead>\n",
       "    <tr style=\"text-align: right;\">\n",
       "      <th></th>\n",
       "      <th>Id</th>\n",
       "      <th>CompanyName</th>\n",
       "      <th>Phone</th>\n",
       "    </tr>\n",
       "  </thead>\n",
       "  <tbody>\n",
       "    <tr>\n",
       "      <th>0</th>\n",
       "      <td>1</td>\n",
       "      <td>Speedy Express</td>\n",
       "      <td>(503) 555-9831</td>\n",
       "    </tr>\n",
       "    <tr>\n",
       "      <th>1</th>\n",
       "      <td>2</td>\n",
       "      <td>United Package</td>\n",
       "      <td>(503) 555-3199</td>\n",
       "    </tr>\n",
       "    <tr>\n",
       "      <th>2</th>\n",
       "      <td>3</td>\n",
       "      <td>Federal Shipping</td>\n",
       "      <td>(503) 555-9931</td>\n",
       "    </tr>\n",
       "  </tbody>\n",
       "</table>"
      ],
      "text/plain": [
       "<IPython.core.display.HTML object>"
      ]
     },
     "metadata": {},
     "output_type": "display_data"
    },
    {
     "data": {
      "text/html": [
       "<br>3 rows x 3 columns<br><br>"
      ],
      "text/plain": [
       "<IPython.core.display.HTML object>"
      ]
     },
     "metadata": {},
     "output_type": "display_data"
    },
    {
     "name": "stdout",
     "output_type": "stream",
     "text": [
      "<class 'pandas.core.frame.DataFrame'>\n",
      "RangeIndex: 3 entries, 0 to 2\n",
      "Data columns (total 3 columns):\n",
      " #   Column       Non-Null Count  Dtype \n",
      "---  ------       --------------  ----- \n",
      " 0   Id           3 non-null      int64 \n",
      " 1   CompanyName  3 non-null      object\n",
      " 2   Phone        3 non-null      object\n",
      "dtypes: int64(1), object(2)\n",
      "memory usage: 200.0+ bytes\n"
     ]
    },
    {
     "data": {
      "text/html": [
       "<p><br><br>"
      ],
      "text/plain": [
       "<IPython.core.display.HTML object>"
      ]
     },
     "metadata": {},
     "output_type": "display_data"
    },
    {
     "data": {
      "text/html": [
       "Table <b>Supplier</b>:"
      ],
      "text/plain": [
       "<IPython.core.display.HTML object>"
      ]
     },
     "metadata": {},
     "output_type": "display_data"
    },
    {
     "data": {
      "text/html": [
       "<table border=\"1\" class=\"dataframe\">\n",
       "  <thead>\n",
       "    <tr style=\"text-align: right;\">\n",
       "      <th></th>\n",
       "      <th>Id</th>\n",
       "      <th>CompanyName</th>\n",
       "      <th>ContactName</th>\n",
       "      <th>ContactTitle</th>\n",
       "      <th>Address</th>\n",
       "      <th>City</th>\n",
       "      <th>Region</th>\n",
       "      <th>PostalCode</th>\n",
       "      <th>Country</th>\n",
       "      <th>Phone</th>\n",
       "      <th>Fax</th>\n",
       "      <th>HomePage</th>\n",
       "    </tr>\n",
       "  </thead>\n",
       "  <tbody>\n",
       "    <tr>\n",
       "      <th>0</th>\n",
       "      <td>1</td>\n",
       "      <td>Exotic Liquids</td>\n",
       "      <td>Charlotte Cooper</td>\n",
       "      <td>Purchasing Manager</td>\n",
       "      <td>49 Gilbert St.</td>\n",
       "      <td>London</td>\n",
       "      <td>British Isles</td>\n",
       "      <td>EC1 4SD</td>\n",
       "      <td>UK</td>\n",
       "      <td>(171) 555-2222</td>\n",
       "      <td>None</td>\n",
       "      <td>None</td>\n",
       "    </tr>\n",
       "    <tr>\n",
       "      <th>1</th>\n",
       "      <td>2</td>\n",
       "      <td>New Orleans Cajun Delights</td>\n",
       "      <td>Shelley Burke</td>\n",
       "      <td>Order Administrator</td>\n",
       "      <td>P.O. Box 78934</td>\n",
       "      <td>New Orleans</td>\n",
       "      <td>North America</td>\n",
       "      <td>70117</td>\n",
       "      <td>USA</td>\n",
       "      <td>(100) 555-4822</td>\n",
       "      <td>None</td>\n",
       "      <td>#CAJUN.HTM#</td>\n",
       "    </tr>\n",
       "    <tr>\n",
       "      <th>2</th>\n",
       "      <td>3</td>\n",
       "      <td>Grandma Kelly's Homestead</td>\n",
       "      <td>Regina Murphy</td>\n",
       "      <td>Sales Representative</td>\n",
       "      <td>707 Oxford Rd.</td>\n",
       "      <td>Ann Arbor</td>\n",
       "      <td>North America</td>\n",
       "      <td>48104</td>\n",
       "      <td>USA</td>\n",
       "      <td>(313) 555-5735</td>\n",
       "      <td>(313) 555-3349</td>\n",
       "      <td>None</td>\n",
       "    </tr>\n",
       "    <tr>\n",
       "      <th>3</th>\n",
       "      <td>4</td>\n",
       "      <td>Tokyo Traders</td>\n",
       "      <td>Yoshi Nagase</td>\n",
       "      <td>Marketing Manager</td>\n",
       "      <td>9-8 Sekimai Musashino-shi</td>\n",
       "      <td>Tokyo</td>\n",
       "      <td>Eastern Asia</td>\n",
       "      <td>100</td>\n",
       "      <td>Japan</td>\n",
       "      <td>(03) 3555-5011</td>\n",
       "      <td>None</td>\n",
       "      <td>None</td>\n",
       "    </tr>\n",
       "    <tr>\n",
       "      <th>4</th>\n",
       "      <td>5</td>\n",
       "      <td>Cooperativa de Quesos 'Las Cabras'</td>\n",
       "      <td>Antonio del Valle Saavedra</td>\n",
       "      <td>Export Administrator</td>\n",
       "      <td>Calle del Rosal 4</td>\n",
       "      <td>Oviedo</td>\n",
       "      <td>Southern Europe</td>\n",
       "      <td>33007</td>\n",
       "      <td>Spain</td>\n",
       "      <td>(98) 598 76 54</td>\n",
       "      <td>None</td>\n",
       "      <td>None</td>\n",
       "    </tr>\n",
       "  </tbody>\n",
       "</table>"
      ],
      "text/plain": [
       "<IPython.core.display.HTML object>"
      ]
     },
     "metadata": {},
     "output_type": "display_data"
    },
    {
     "data": {
      "text/html": [
       "<br>5 rows x 12 columns<br><br>"
      ],
      "text/plain": [
       "<IPython.core.display.HTML object>"
      ]
     },
     "metadata": {},
     "output_type": "display_data"
    },
    {
     "name": "stdout",
     "output_type": "stream",
     "text": [
      "<class 'pandas.core.frame.DataFrame'>\n",
      "RangeIndex: 29 entries, 0 to 28\n",
      "Data columns (total 12 columns):\n",
      " #   Column        Non-Null Count  Dtype \n",
      "---  ------        --------------  ----- \n",
      " 0   Id            29 non-null     int64 \n",
      " 1   CompanyName   29 non-null     object\n",
      " 2   ContactName   29 non-null     object\n",
      " 3   ContactTitle  29 non-null     object\n",
      " 4   Address       29 non-null     object\n",
      " 5   City          29 non-null     object\n",
      " 6   Region        29 non-null     object\n",
      " 7   PostalCode    29 non-null     object\n",
      " 8   Country       29 non-null     object\n",
      " 9   Phone         29 non-null     object\n",
      " 10  Fax           13 non-null     object\n",
      " 11  HomePage      5 non-null      object\n",
      "dtypes: int64(1), object(11)\n",
      "memory usage: 2.8+ KB\n"
     ]
    },
    {
     "data": {
      "text/html": [
       "<p><br><br>"
      ],
      "text/plain": [
       "<IPython.core.display.HTML object>"
      ]
     },
     "metadata": {},
     "output_type": "display_data"
    },
    {
     "data": {
      "text/html": [
       "Table <b>Territory</b>:"
      ],
      "text/plain": [
       "<IPython.core.display.HTML object>"
      ]
     },
     "metadata": {},
     "output_type": "display_data"
    },
    {
     "data": {
      "text/html": [
       "<table border=\"1\" class=\"dataframe\">\n",
       "  <thead>\n",
       "    <tr style=\"text-align: right;\">\n",
       "      <th></th>\n",
       "      <th>Id</th>\n",
       "      <th>TerritoryDescription</th>\n",
       "      <th>RegionId</th>\n",
       "    </tr>\n",
       "  </thead>\n",
       "  <tbody>\n",
       "    <tr>\n",
       "      <th>0</th>\n",
       "      <td>01581</td>\n",
       "      <td>Westboro</td>\n",
       "      <td>1</td>\n",
       "    </tr>\n",
       "    <tr>\n",
       "      <th>1</th>\n",
       "      <td>01730</td>\n",
       "      <td>Bedford</td>\n",
       "      <td>1</td>\n",
       "    </tr>\n",
       "    <tr>\n",
       "      <th>2</th>\n",
       "      <td>01833</td>\n",
       "      <td>Georgetow</td>\n",
       "      <td>1</td>\n",
       "    </tr>\n",
       "    <tr>\n",
       "      <th>3</th>\n",
       "      <td>02116</td>\n",
       "      <td>Boston</td>\n",
       "      <td>1</td>\n",
       "    </tr>\n",
       "    <tr>\n",
       "      <th>4</th>\n",
       "      <td>02139</td>\n",
       "      <td>Cambridge</td>\n",
       "      <td>1</td>\n",
       "    </tr>\n",
       "  </tbody>\n",
       "</table>"
      ],
      "text/plain": [
       "<IPython.core.display.HTML object>"
      ]
     },
     "metadata": {},
     "output_type": "display_data"
    },
    {
     "data": {
      "text/html": [
       "<br>5 rows x 3 columns<br><br>"
      ],
      "text/plain": [
       "<IPython.core.display.HTML object>"
      ]
     },
     "metadata": {},
     "output_type": "display_data"
    },
    {
     "name": "stdout",
     "output_type": "stream",
     "text": [
      "<class 'pandas.core.frame.DataFrame'>\n",
      "RangeIndex: 53 entries, 0 to 52\n",
      "Data columns (total 3 columns):\n",
      " #   Column                Non-Null Count  Dtype \n",
      "---  ------                --------------  ----- \n",
      " 0   Id                    53 non-null     object\n",
      " 1   TerritoryDescription  53 non-null     object\n",
      " 2   RegionId              53 non-null     int64 \n",
      "dtypes: int64(1), object(2)\n",
      "memory usage: 1.4+ KB\n"
     ]
    },
    {
     "data": {
      "text/html": [
       "<p><br><br>"
      ],
      "text/plain": [
       "<IPython.core.display.HTML object>"
      ]
     },
     "metadata": {},
     "output_type": "display_data"
    },
    {
     "data": {
      "text/html": [
       "<h3>Tables with null values:</h3>"
      ],
      "text/plain": [
       "<IPython.core.display.HTML object>"
      ]
     },
     "metadata": {},
     "output_type": "display_data"
    },
    {
     "name": "stdout",
     "output_type": "stream",
     "text": [
      "['Customer', 'Employee', 'Order', 'Supplier']\n"
     ]
    }
   ],
   "source": [
    "tables_with_nulls = []\n",
    "for tn, tbl_df in table_as_df.items():\n",
    "    display(HTML(f\"Table <b>{tn}</b>:\"))\n",
    "    cols_with_nulls = scjpnutils.summarize_df(tbl_df)\n",
    "    if len(cols_with_nulls) > 0:\n",
    "        tables_with_nulls.append(tn)\n",
    "    display(HTML(f\"<p><br><br>\"))\n",
    "\n",
    "if len(tables_with_nulls) > 0:\n",
    "    display(HTML(f\"<h3>Tables with null values:</h3>\"))\n",
    "    print(tables_with_nulls)"
   ]
  },
  {
   "cell_type": "markdown",
   "metadata": {},
   "source": [
    "<br><br>\n",
    "\n",
    "### Limit data to scope defined by our hypotheses\n",
    "\n",
    "This is quite simply.  For this analysis, all the data we require is sourced from the **OrderDetail** table."
   ]
  },
  {
   "cell_type": "code",
   "execution_count": 5,
   "metadata": {},
   "outputs": [],
   "source": [
    "pysqldfmgr = sqlmgr.PySQLDFManager(globals())\n",
    "\n",
    "order_detail_df = table_as_df['OrderDetail']\n",
    "order_detail_df = pysqldfmgr.pysqldf(\"SELECT * FROM order_detail_df GROUP BY Id\")"
   ]
  },
  {
   "cell_type": "markdown",
   "metadata": {},
   "source": [
    "<br><br>\n",
    "## Clean Null Values (if necessary)"
   ]
  },
  {
   "cell_type": "code",
   "execution_count": 6,
   "metadata": {},
   "outputs": [
    {
     "data": {
      "text/html": [
       "Columns with null values in table <b>Customer</b>:<br>"
      ],
      "text/plain": [
       "<IPython.core.display.HTML object>"
      ]
     },
     "metadata": {},
     "output_type": "display_data"
    },
    {
     "data": {
      "text/html": [
       "<table border=\"1\" class=\"dataframe\">\n",
       "  <thead>\n",
       "    <tr style=\"text-align: right;\">\n",
       "      <th></th>\n",
       "      <th>name</th>\n",
       "      <th>index</th>\n",
       "      <th>dtype</th>\n",
       "      <th>n_null</th>\n",
       "    </tr>\n",
       "  </thead>\n",
       "  <tbody>\n",
       "    <tr>\n",
       "      <th>0</th>\n",
       "      <td>PostalCode</td>\n",
       "      <td>7</td>\n",
       "      <td>object</td>\n",
       "      <td>1</td>\n",
       "    </tr>\n",
       "    <tr>\n",
       "      <th>1</th>\n",
       "      <td>Fax</td>\n",
       "      <td>10</td>\n",
       "      <td>object</td>\n",
       "      <td>22</td>\n",
       "    </tr>\n",
       "  </tbody>\n",
       "</table>"
      ],
      "text/plain": [
       "<IPython.core.display.HTML object>"
      ]
     },
     "metadata": {},
     "output_type": "display_data"
    },
    {
     "data": {
      "text/html": [
       "<br>2 rows x 4 columns<br><br>"
      ],
      "text/plain": [
       "<IPython.core.display.HTML object>"
      ]
     },
     "metadata": {},
     "output_type": "display_data"
    },
    {
     "data": {
      "text/html": [
       "<br><br>"
      ],
      "text/plain": [
       "<IPython.core.display.HTML object>"
      ]
     },
     "metadata": {},
     "output_type": "display_data"
    },
    {
     "data": {
      "text/html": [
       "Columns with null values in table <b>Employee</b>:<br>"
      ],
      "text/plain": [
       "<IPython.core.display.HTML object>"
      ]
     },
     "metadata": {},
     "output_type": "display_data"
    },
    {
     "data": {
      "text/html": [
       "<table border=\"1\" class=\"dataframe\">\n",
       "  <thead>\n",
       "    <tr style=\"text-align: right;\">\n",
       "      <th></th>\n",
       "      <th>name</th>\n",
       "      <th>index</th>\n",
       "      <th>dtype</th>\n",
       "      <th>n_null</th>\n",
       "    </tr>\n",
       "  </thead>\n",
       "  <tbody>\n",
       "    <tr>\n",
       "      <th>0</th>\n",
       "      <td>Photo</td>\n",
       "      <td>14</td>\n",
       "      <td>object</td>\n",
       "      <td>9</td>\n",
       "    </tr>\n",
       "    <tr>\n",
       "      <th>1</th>\n",
       "      <td>ReportsTo</td>\n",
       "      <td>16</td>\n",
       "      <td>float64</td>\n",
       "      <td>1</td>\n",
       "    </tr>\n",
       "  </tbody>\n",
       "</table>"
      ],
      "text/plain": [
       "<IPython.core.display.HTML object>"
      ]
     },
     "metadata": {},
     "output_type": "display_data"
    },
    {
     "data": {
      "text/html": [
       "<br>2 rows x 4 columns<br><br>"
      ],
      "text/plain": [
       "<IPython.core.display.HTML object>"
      ]
     },
     "metadata": {},
     "output_type": "display_data"
    },
    {
     "data": {
      "text/html": [
       "<br><br>"
      ],
      "text/plain": [
       "<IPython.core.display.HTML object>"
      ]
     },
     "metadata": {},
     "output_type": "display_data"
    },
    {
     "data": {
      "text/html": [
       "Columns with null values in table <b>Order</b>:<br>"
      ],
      "text/plain": [
       "<IPython.core.display.HTML object>"
      ]
     },
     "metadata": {},
     "output_type": "display_data"
    },
    {
     "data": {
      "text/html": [
       "<table border=\"1\" class=\"dataframe\">\n",
       "  <thead>\n",
       "    <tr style=\"text-align: right;\">\n",
       "      <th></th>\n",
       "      <th>name</th>\n",
       "      <th>index</th>\n",
       "      <th>dtype</th>\n",
       "      <th>n_null</th>\n",
       "    </tr>\n",
       "  </thead>\n",
       "  <tbody>\n",
       "    <tr>\n",
       "      <th>0</th>\n",
       "      <td>ShippedDate</td>\n",
       "      <td>5</td>\n",
       "      <td>object</td>\n",
       "      <td>21</td>\n",
       "    </tr>\n",
       "    <tr>\n",
       "      <th>1</th>\n",
       "      <td>ShipPostalCode</td>\n",
       "      <td>12</td>\n",
       "      <td>object</td>\n",
       "      <td>19</td>\n",
       "    </tr>\n",
       "  </tbody>\n",
       "</table>"
      ],
      "text/plain": [
       "<IPython.core.display.HTML object>"
      ]
     },
     "metadata": {},
     "output_type": "display_data"
    },
    {
     "data": {
      "text/html": [
       "<br>2 rows x 4 columns<br><br>"
      ],
      "text/plain": [
       "<IPython.core.display.HTML object>"
      ]
     },
     "metadata": {},
     "output_type": "display_data"
    },
    {
     "data": {
      "text/html": [
       "<br><br>"
      ],
      "text/plain": [
       "<IPython.core.display.HTML object>"
      ]
     },
     "metadata": {},
     "output_type": "display_data"
    },
    {
     "data": {
      "text/html": [
       "Columns with null values in table <b>Supplier</b>:<br>"
      ],
      "text/plain": [
       "<IPython.core.display.HTML object>"
      ]
     },
     "metadata": {},
     "output_type": "display_data"
    },
    {
     "data": {
      "text/html": [
       "<table border=\"1\" class=\"dataframe\">\n",
       "  <thead>\n",
       "    <tr style=\"text-align: right;\">\n",
       "      <th></th>\n",
       "      <th>name</th>\n",
       "      <th>index</th>\n",
       "      <th>dtype</th>\n",
       "      <th>n_null</th>\n",
       "    </tr>\n",
       "  </thead>\n",
       "  <tbody>\n",
       "    <tr>\n",
       "      <th>0</th>\n",
       "      <td>Fax</td>\n",
       "      <td>10</td>\n",
       "      <td>object</td>\n",
       "      <td>16</td>\n",
       "    </tr>\n",
       "    <tr>\n",
       "      <th>1</th>\n",
       "      <td>HomePage</td>\n",
       "      <td>11</td>\n",
       "      <td>object</td>\n",
       "      <td>24</td>\n",
       "    </tr>\n",
       "  </tbody>\n",
       "</table>"
      ],
      "text/plain": [
       "<IPython.core.display.HTML object>"
      ]
     },
     "metadata": {},
     "output_type": "display_data"
    },
    {
     "data": {
      "text/html": [
       "<br>2 rows x 4 columns<br><br>"
      ],
      "text/plain": [
       "<IPython.core.display.HTML object>"
      ]
     },
     "metadata": {},
     "output_type": "display_data"
    },
    {
     "data": {
      "text/html": [
       "<br><br>"
      ],
      "text/plain": [
       "<IPython.core.display.HTML object>"
      ]
     },
     "metadata": {},
     "output_type": "display_data"
    }
   ],
   "source": [
    "for nv_tn in tables_with_nulls:\n",
    "    cwnv_df = scjpnutils.cols_with_nulls(table_as_df[nv_tn])\n",
    "    display(HTML(f\"Columns with null values in table <b>{nv_tn}</b>:<br>\"))\n",
    "    scjpnutils.print_df(cwnv_df)\n",
    "    display(HTML(\"<br><br>\"))"
   ]
  },
  {
   "cell_type": "markdown",
   "metadata": {},
   "source": [
    "<h4>We see that since no column above has any impact on the goal of our analysis effort, THERE IS NO NEED TO FIGURE OUT A NULL-VALUE REPLACEMENT HEURISTIC.</h4>\n",
    "\n",
    "Now we can move on to..."
   ]
  },
  {
   "cell_type": "markdown",
   "metadata": {},
   "source": [
    "## Investigate and handle potential outlier values\n",
    "\n",
    "A boxplot will give us a visual feel for any potential outliers of Quantity, grouped by Discount.\n",
    "\n",
    "The mean Discount is also shown below.  This is done to highlight that its value will be affected by the presence of outliers (if any)."
   ]
  },
  {
   "cell_type": "code",
   "execution_count": 7,
   "metadata": {},
   "outputs": [],
   "source": [
    "def boxplot_od_qty_outliers(od_df, prior_mean_qty=None):\n",
    "    fig = plt.figure(figsize=(12,10))\n",
    "    sns.boxplot(od_df.Discount, od_df.Quantity) # groups x-axis by unique vals\n",
    "    mean_qty = od_df.Quantity.mean()\n",
    "    if prior_mean_qty is None:\n",
    "        plt.axhline(y=mean_qty, color=\"red\", label=f\"mean Quantity ({round(mean_qty,2)})\")\n",
    "    else:\n",
    "        plt.axhline(y=prior_mean_qty, color=\"red\", label=f\"original mean Quantity ({round(prior_mean_qty,2)})\")\n",
    "        plt.axhline(y=mean_qty, color=\"blue\", label=f\"new mean Quantity ({round(mean_qty,2)})\")\n",
    "    plt.legend()\n",
    "    plt.title(\"Quantity Value Outlier Analysis\")\n",
    "    fig.tight_layout()\n",
    "    plt.show();\n",
    "\n",
    "#     fig = plt.figure(figsize=(12,10))\n",
    "#     sm.graphics.qqplot(od_df.Quantity, dist=stats.norm, line='45', fit=True)\n",
    "#     fig.tight_layout()\n",
    "#     plt.show();"
   ]
  },
  {
   "cell_type": "code",
   "execution_count": 8,
   "metadata": {},
   "outputs": [
    {
     "data": {
      "image/png": "[encoded data removed]",
      "text/plain": [
       "<Figure size 864x720 with 1 Axes>"
      ]
     },
     "metadata": {},
     "output_type": "display_data"
    }
   ],
   "source": [
    "boxplot_od_qty_outliers(order_detail_df)\n",
    "\n",
    "old_mean_qty = order_detail_df.Quantity.mean()"
   ]
  },
  {
   "cell_type": "markdown",
   "metadata": {},
   "source": [
    "There are a couple of things to note from the above.\n",
    "\n",
    "1. We do see the presence of outliers (outside of the whiskers) in Discount bins \\[0.0, 0.05, 0.1, 0.15, 0.2, 0.25\\]; since they are \"above\" they will pull the mean Quantity \"up\".\n",
    "2. The range of Quanities in the \\[0.01, 0.02, 0.03, 0.04, 0.06\\] Discount bins are nominal at best; they will pull the mean Quantity \"down\".\n",
    "\n",
    "Our first sub-goal is to deal with the above in order to get a better measure of mean Quantity since our hypotheses depend on it.\n",
    "\n",
    "First, we need to precisely identify outliers in each bin.\n",
    "\n",
    "We can do this by utilizing the IQR of Quantity values for each binned Discount."
   ]
  },
  {
   "cell_type": "code",
   "execution_count": 9,
   "metadata": {},
   "outputs": [],
   "source": [
    "type_1_outlier_discount = [0.0, 0.05, 0.1, 0.15, 0.2, 0.25]\n",
    "type_2_outlier_discount = [0.01, 0.02, 0.03, 0.04, 0.06]"
   ]
  },
  {
   "cell_type": "markdown",
   "metadata": {},
   "source": [
    "Let's drop \"type 2\" outliers first..."
   ]
  },
  {
   "cell_type": "code",
   "execution_count": 10,
   "metadata": {},
   "outputs": [
    {
     "name": "stdout",
     "output_type": "stream",
     "text": [
      "dropped 1 records for Discount value 0.01\n",
      "dropped 2 records for Discount value 0.02\n",
      "dropped 3 records for Discount value 0.03\n",
      "dropped 1 records for Discount value 0.04\n",
      "dropped 1 records for Discount value 0.06\n"
     ]
    }
   ],
   "source": [
    "n_total_dropped = 0\n",
    "\n",
    "order_detail_qty_outliers_removed_df = order_detail_df.copy()\n",
    "for d_outlier in type_2_outlier_discount:\n",
    "    len_before_drop = len(order_detail_qty_outliers_removed_df)\n",
    "    df_outliers = order_detail_df.query(f\"Discount=={d_outlier}\")\n",
    "    order_detail_qty_outliers_removed_df = order_detail_qty_outliers_removed_df.drop(df_outliers.index)\n",
    "    len_after_drop = len(order_detail_qty_outliers_removed_df)\n",
    "    n_dropped = len_before_drop - len_after_drop\n",
    "    n_total_dropped += n_dropped\n",
    "    print(f\"dropped {n_dropped} records for Discount value {d_outlier}\")\n",
    "#print(f\"\\ndropped {n_total_dropped} total outlier observations (including outlier Quantities)\")"
   ]
  },
  {
   "cell_type": "code",
   "execution_count": 11,
   "metadata": {},
   "outputs": [],
   "source": [
    "# find outlier values of Quantity based on its IQR for each Discount\n",
    "def get_qty_outlier_vals_by_discount(s_order_detail_df_name, check_discounts=None):\n",
    "    qty_outliers_for_discount = {}\n",
    "    if check_discounts is None:\n",
    "        df_distinct_discounts = pysqldfmgr.pysqldf(f\"SELECT DISTINCT Discount FROM {s_order_detail_df_name} ORDER BY Discount ASC\")\n",
    "        check_discounts = list(df_distinct_discounts.Discount.unique())\n",
    "    for d in check_discounts:\n",
    "        # get the quantities for this discount and also sort ascending\n",
    "        df_q = pysqldfmgr.pysqldf(f\"SELECT ProductId, Quantity, Discount FROM {s_order_detail_df_name} WHERE Discount={d} ORDER BY Quantity ASC\")\n",
    "        \n",
    "        q1, q3 = np.percentile(df_q.Quantity, [25, 75])\n",
    "        delta = q3 - q1\n",
    "        iqr_q_lb = q1 - (1.5 * delta) \n",
    "        iqr_q_ub = q3 + (1.5 * delta)\n",
    "\n",
    "        df_q_outliers_for_d = pysqldfmgr.pysqldf(f\"\"\"\n",
    "            SELECT ProductId, Quantity, Discount \n",
    "            FROM {s_order_detail_df_name} \n",
    "            WHERE Discount={d} AND (Quantity < {iqr_q_lb} OR Quantity > {iqr_q_ub})\n",
    "        \"\"\")\n",
    "\n",
    "        q_outliers_for_d = sorted(list(df_q_outliers_for_d.Quantity.unique()))\n",
    "        display(HTML(f\"Outlier values for <b>Quantity</b> (IQR lb: {iqr_q_lb}, IQR ub: {iqr_q_ub}) for discount={d}: {q_outliers_for_d}\"))\n",
    "        qty_outliers_for_discount[d] = q_outliers_for_d\n",
    "    print()\n",
    "    return qty_outliers_for_discount\n",
    "\n",
    "# this function will handle a set of outlier values by passing in a callback\n",
    "#    the specific manner in which outliers are handled is defined by the callback function\n",
    "def handle_qty_outliers(order_detail_df, qty_outliers_for_discount, f_outliers_df_index_handler, kwargs=None):\n",
    "    for d, q_outliers_for_d in qty_outliers_for_discount.items():\n",
    "        for q_outlier in q_outliers_for_d:\n",
    "            #find records with outlier qty value for this discount\n",
    "            df_outliers = order_detail_df.query(f\"(Discount=={d}) & (Quantity=={q_outlier})\")\n",
    "            order_detail_df = f_outliers_df_index_handler(order_detail_df, d, q_outlier, df_outliers.index, kwargs)\n",
    "    return order_detail_df\n",
    "\n",
    "# this handler is passed to handle_qty_outliers()\n",
    "#   it will drop records from the index resulting from finding Quatity outliers in handle_qty_outliers()\n",
    "def drop_index_handler(order_detail_df, d, q_outlier, df_outliers_index, kwargs):\n",
    "    len_before_drop = len(order_detail_df)\n",
    "    order_detail_df = order_detail_df.drop(df_outliers_index)\n",
    "    len_after_drop = len(order_detail_df)\n",
    "    n_dropped = len_before_drop - len_after_drop\n",
    "    print(f\"dropped {n_dropped} records for Discount value {d} with outlier Quantity value {q_outlier}\")\n",
    "    return order_detail_df\n",
    "\n",
    "def drop_qty_outlier_vals_by_discount(s_od_df_name, lst_discounts_with_outliers=None, display_box_plot=True, original_mean=None):\n",
    "    od_df = globals()[s_od_df_name]\n",
    "    len_before = len(od_df)\n",
    "    \n",
    "    # now call handle_qty_outliers(), passing in drop_index_handler() to drop qualifying records\n",
    "    #   the resulting DF is saved to a new DF\n",
    "    od_qty_outliers_removed_df = handle_qty_outliers(\n",
    "        od_df.copy()\n",
    "        , get_qty_outlier_vals_by_discount(s_od_df_name, lst_discounts_with_outliers)\n",
    "        , drop_index_handler\n",
    "    )\n",
    "\n",
    "    # print the results\n",
    "    len_after = len(od_qty_outliers_removed_df)\n",
    "    n_total_dropped = len_before - len_after\n",
    "    print(f\"\\ndropped {n_total_dropped} total outlier observations\")\n",
    "    \n",
    "    if display_box_plot:\n",
    "        display(Markdown(\"<br>Now let's have a look at a new boxplot after removing outliers and compare the new mean Quantity to the old...\"))\n",
    "        boxplot_od_qty_outliers(od_qty_outliers_removed_df, original_mean if original_mean is not None else od_df.Quantity.mean())\n",
    "    \n",
    "    return (n_total_dropped, od_qty_outliers_removed_df)"
   ]
  },
  {
   "cell_type": "markdown",
   "metadata": {},
   "source": [
    "Now remove \"type 1\" outliers..."
   ]
  },
  {
   "cell_type": "code",
   "execution_count": 12,
   "metadata": {},
   "outputs": [
    {
     "data": {
      "text/html": [
       "Outlier values for <b>Quantity</b> (IQR lb: -20.0, IQR ub: 60.0) for discount=0.0: [63, 65, 70, 77, 80, 90, 91, 100, 110, 120, 130]"
      ],
      "text/plain": [
       "<IPython.core.display.HTML object>"
      ]
     },
     "metadata": {},
     "output_type": "display_data"
    },
    {
     "data": {
      "text/html": [
       "Outlier values for <b>Quantity</b> (IQR lb: -25.0, IQR ub: 79.0) for discount=0.05: [80, 90, 100, 120]"
      ],
      "text/plain": [
       "<IPython.core.display.HTML object>"
      ]
     },
     "metadata": {},
     "output_type": "display_data"
    },
    {
     "data": {
      "text/html": [
       "Outlier values for <b>Quantity</b> (IQR lb: -20.0, IQR ub: 60.0) for discount=0.1: [70, 77, 80, 120, 130]"
      ],
      "text/plain": [
       "<IPython.core.display.HTML object>"
      ]
     },
     "metadata": {},
     "output_type": "display_data"
    },
    {
     "data": {
      "text/html": [
       "Outlier values for <b>Quantity</b> (IQR lb: -22.5, IQR ub: 77.5) for discount=0.15: [80, 84, 90, 100]"
      ],
      "text/plain": [
       "<IPython.core.display.HTML object>"
      ]
     },
     "metadata": {},
     "output_type": "display_data"
    },
    {
     "data": {
      "text/html": [
       "Outlier values for <b>Quantity</b> (IQR lb: -30.0, IQR ub: 82.0) for discount=0.2: [90, 100]"
      ],
      "text/plain": [
       "<IPython.core.display.HTML object>"
      ]
     },
     "metadata": {},
     "output_type": "display_data"
    },
    {
     "data": {
      "text/html": [
       "Outlier values for <b>Quantity</b> (IQR lb: -16.5, IQR ub: 67.5) for discount=0.25: [70, 80, 100, 120]"
      ],
      "text/plain": [
       "<IPython.core.display.HTML object>"
      ]
     },
     "metadata": {},
     "output_type": "display_data"
    },
    {
     "name": "stdout",
     "output_type": "stream",
     "text": [
      "\n",
      "dropped 1 records for Discount value 0.0 with outlier Quantity value 63\n",
      "dropped 3 records for Discount value 0.0 with outlier Quantity value 65\n",
      "dropped 10 records for Discount value 0.0 with outlier Quantity value 70\n",
      "dropped 1 records for Discount value 0.0 with outlier Quantity value 77\n",
      "dropped 6 records for Discount value 0.0 with outlier Quantity value 80\n",
      "dropped 1 records for Discount value 0.0 with outlier Quantity value 90\n",
      "dropped 1 records for Discount value 0.0 with outlier Quantity value 91\n",
      "dropped 4 records for Discount value 0.0 with outlier Quantity value 100\n",
      "dropped 3 records for Discount value 0.0 with outlier Quantity value 110\n",
      "dropped 3 records for Discount value 0.0 with outlier Quantity value 120\n",
      "dropped 1 records for Discount value 0.0 with outlier Quantity value 130\n",
      "dropped 3 records for Discount value 0.05 with outlier Quantity value 80\n",
      "dropped 1 records for Discount value 0.05 with outlier Quantity value 90\n",
      "dropped 1 records for Discount value 0.05 with outlier Quantity value 100\n",
      "dropped 2 records for Discount value 0.05 with outlier Quantity value 120\n",
      "dropped 3 records for Discount value 0.1 with outlier Quantity value 70\n",
      "dropped 1 records for Discount value 0.1 with outlier Quantity value 77\n",
      "dropped 2 records for Discount value 0.1 with outlier Quantity value 80\n",
      "dropped 2 records for Discount value 0.1 with outlier Quantity value 120\n",
      "dropped 1 records for Discount value 0.1 with outlier Quantity value 130\n",
      "dropped 2 records for Discount value 0.15 with outlier Quantity value 80\n",
      "dropped 2 records for Discount value 0.15 with outlier Quantity value 84\n",
      "dropped 1 records for Discount value 0.15 with outlier Quantity value 90\n",
      "dropped 2 records for Discount value 0.15 with outlier Quantity value 100\n",
      "dropped 1 records for Discount value 0.2 with outlier Quantity value 90\n",
      "dropped 1 records for Discount value 0.2 with outlier Quantity value 100\n",
      "dropped 3 records for Discount value 0.25 with outlier Quantity value 70\n",
      "dropped 1 records for Discount value 0.25 with outlier Quantity value 80\n",
      "dropped 2 records for Discount value 0.25 with outlier Quantity value 100\n",
      "dropped 1 records for Discount value 0.25 with outlier Quantity value 120\n",
      "\n",
      "dropped 66 total outlier observations\n"
     ]
    },
    {
     "data": {
      "text/markdown": [
       "<br>Now let's have a look at a new boxplot after removing outliers and compare the new mean Quantity to the old..."
      ],
      "text/plain": [
       "<IPython.core.display.Markdown object>"
      ]
     },
     "metadata": {},
     "output_type": "display_data"
    },
    {
     "data": {
      "image/png": "[encoded data removed]",
      "text/plain": [
       "<Figure size 864x720 with 1 Axes>"
      ]
     },
     "metadata": {},
     "output_type": "display_data"
    }
   ],
   "source": [
    "n_total_dropped, order_detail_qty_outliers_removed_df = drop_qty_outlier_vals_by_discount('order_detail_qty_outliers_removed_df', type_1_outlier_discount)"
   ]
  },
  {
   "cell_type": "markdown",
   "metadata": {},
   "source": [
    "It appears that addressing the former outliers was effective, as the mean has dropped by roughly by 10% of its former value.\n",
    "\n",
    "But let's formalize this via ***Cohen's D***."
   ]
  },
  {
   "cell_type": "code",
   "execution_count": 13,
   "metadata": {},
   "outputs": [],
   "source": [
    "# borrowed directly from corresponding lesson on Learn\n",
    "def Cohen_d(group1, group2):\n",
    "    diff = group1.mean() - group2.mean()\n",
    "    n1, n2 = len(group1), len(group2)\n",
    "    var1 = group1.var()\n",
    "    var2 = group2.var()\n",
    "    # Calculate the pooled threshold as shown earlier\n",
    "    pooled_var = (n1 * var1 + n2 * var2) / (n1 + n2)\n",
    "    # Calculate Cohen's d statistic\n",
    "    d = diff / np.sqrt(pooled_var)\n",
    "    return d"
   ]
  },
  {
   "cell_type": "code",
   "execution_count": 14,
   "metadata": {},
   "outputs": [
    {
     "data": {
      "text/plain": [
       "0.11389943135244662"
      ]
     },
     "execution_count": 14,
     "metadata": {},
     "output_type": "execute_result"
    }
   ],
   "source": [
    "cd = Cohen_d(order_detail_df.Quantity, order_detail_qty_outliers_removed_df.Quantity)\n",
    "cd"
   ]
  },
  {
   "cell_type": "markdown",
   "metadata": {},
   "source": [
    "The effect size of removing outliers is small but not insignificant.\n",
    "\n",
    "One thing to note from the above boxplot is that some (new) outliers appear for Discount = 0.05 and Discount = 0.15.\n",
    "\n",
    "Let's determine if it's worth pursuing another round of outlier-cleanup..."
   ]
  },
  {
   "cell_type": "code",
   "execution_count": 15,
   "metadata": {},
   "outputs": [
    {
     "data": {
      "text/html": [
       "Outlier values for <b>Quantity</b> (IQR lb: -10.0, IQR ub: 54.0) for discount=0.05: [55, 56, 60, 65, 70, 77]"
      ],
      "text/plain": [
       "<IPython.core.display.HTML object>"
      ]
     },
     "metadata": {},
     "output_type": "display_data"
    },
    {
     "data": {
      "text/html": [
       "Outlier values for <b>Quantity</b> (IQR lb: -15.0, IQR ub: 65.0) for discount=0.15: [66, 70]"
      ],
      "text/plain": [
       "<IPython.core.display.HTML object>"
      ]
     },
     "metadata": {},
     "output_type": "display_data"
    },
    {
     "name": "stdout",
     "output_type": "stream",
     "text": [
      "\n",
      "there are 1 records with Quantity outlier value 55 for discount 0.05\n",
      "there are 1 records with Quantity outlier value 56 for discount 0.05\n",
      "there are 9 records with Quantity outlier value 60 for discount 0.05\n",
      "there are 1 records with Quantity outlier value 65 for discount 0.05\n",
      "there are 6 records with Quantity outlier value 70 for discount 0.05\n",
      "there are 1 records with Quantity outlier value 77 for discount 0.05\n",
      "there are 1 records with Quantity outlier value 66 for discount 0.15\n",
      "there are 4 records with Quantity outlier value 70 for discount 0.15\n",
      "\n",
      "there are 24 total Quantity outlier records remaining out of 2081 total records\n"
     ]
    }
   ],
   "source": [
    "type_1_outlier_discount = [0.05, 0.15]\n",
    "qty_outliers_for_discount = get_qty_outlier_vals_by_discount('order_detail_qty_outliers_removed_df', type_1_outlier_discount)\n",
    "d_kwargs = {'n_outliers_remaining':0}\n",
    "\n",
    "def count_index_handler(order_detail_df, d, q_outlier, df_outliers_index, kwargs):\n",
    "    n_records = len(order_detail_df.loc[df_outliers_index])\n",
    "    print(f\"there are {n_records} records with Quantity outlier value {q_outlier} for discount {d}\")\n",
    "    kwargs['n_outliers_remaining'] += n_records\n",
    "    return order_detail_df\n",
    "\n",
    "handle_qty_outliers(\n",
    "    order_detail_qty_outliers_removed_df\n",
    "    , qty_outliers_for_discount\n",
    "    , count_index_handler\n",
    "    , d_kwargs\n",
    ")\n",
    "print(f\"\\nthere are {d_kwargs['n_outliers_remaining']} total Quantity outlier records remaining out of {len(order_detail_qty_outliers_removed_df)} total records\")"
   ]
  },
  {
   "cell_type": "markdown",
   "metadata": {},
   "source": [
    "24/2081 doesn't seem worth the effort - we don't want to drop too many records.\n",
    "\n",
    "Plus, it is possible that doing another round of IQR-outlier analysis will yield yet new outliers."
   ]
  },
  {
   "cell_type": "markdown",
   "metadata": {},
   "source": [
    "But just for giggles, let's remove these outliers and save to a new DF so that we can generate a new effect size and compare it to the last one."
   ]
  },
  {
   "cell_type": "code",
   "execution_count": 16,
   "metadata": {},
   "outputs": [
    {
     "data": {
      "text/html": [
       "Outlier values for <b>Quantity</b> (IQR lb: -10.0, IQR ub: 54.0) for discount=0.05: [55, 56, 60, 65, 70, 77]"
      ],
      "text/plain": [
       "<IPython.core.display.HTML object>"
      ]
     },
     "metadata": {},
     "output_type": "display_data"
    },
    {
     "data": {
      "text/html": [
       "Outlier values for <b>Quantity</b> (IQR lb: -15.0, IQR ub: 65.0) for discount=0.15: [66, 70]"
      ],
      "text/plain": [
       "<IPython.core.display.HTML object>"
      ]
     },
     "metadata": {},
     "output_type": "display_data"
    },
    {
     "name": "stdout",
     "output_type": "stream",
     "text": [
      "\n",
      "dropped 1 records for Discount value 0.05 with outlier Quantity value 55\n",
      "dropped 1 records for Discount value 0.05 with outlier Quantity value 56\n",
      "dropped 9 records for Discount value 0.05 with outlier Quantity value 60\n",
      "dropped 1 records for Discount value 0.05 with outlier Quantity value 65\n",
      "dropped 6 records for Discount value 0.05 with outlier Quantity value 70\n",
      "dropped 1 records for Discount value 0.05 with outlier Quantity value 77\n",
      "dropped 1 records for Discount value 0.15 with outlier Quantity value 66\n",
      "dropped 4 records for Discount value 0.15 with outlier Quantity value 70\n",
      "\n",
      "dropped 24 total outlier observations\n"
     ]
    },
    {
     "data": {
      "text/markdown": [
       "<br>Now let's have a look at a new boxplot after removing outliers and compare the new mean Quantity to the old..."
      ],
      "text/plain": [
       "<IPython.core.display.Markdown object>"
      ]
     },
     "metadata": {},
     "output_type": "display_data"
    },
    {
     "data": {
      "image/png": "[encoded data removed]",
      "text/plain": [
       "<Figure size 864x720 with 1 Axes>"
      ]
     },
     "metadata": {},
     "output_type": "display_data"
    }
   ],
   "source": [
    "n_total_dropped, order_detail_qty_outliers_removed_df_2 = drop_qty_outlier_vals_by_discount(\n",
    "    'order_detail_qty_outliers_removed_df'\n",
    "    , type_1_outlier_discount\n",
    "    , display_box_plot=True\n",
    "    , original_mean=order_detail_df.Quantity.mean()\n",
    ")"
   ]
  },
  {
   "cell_type": "code",
   "execution_count": 17,
   "metadata": {},
   "outputs": [
    {
     "data": {
      "text/markdown": [
       "***Cohen's D*** of Quantity (comparing the original data to this one) is: 0.14545578161886077"
      ],
      "text/plain": [
       "<IPython.core.display.Markdown object>"
      ]
     },
     "metadata": {},
     "output_type": "display_data"
    }
   ],
   "source": [
    "# compute Cohen's D again, comparing to original data set\n",
    "cd2 = Cohen_d(order_detail_df.Quantity, order_detail_qty_outliers_removed_df_2.Quantity)\n",
    "display(Markdown(f\"***Cohen's D*** of Quantity (comparing the original data to this one) is: {cd2}\"))"
   ]
  },
  {
   "cell_type": "markdown",
   "metadata": {},
   "source": [
    "Committing to the data set above after a second recond of outlier-cleanup might be worth it if the effect size surpassed .2.\n",
    "\n",
    "But, since it doesn't, we will stick with what we have.\n",
    "\n",
    "Let's summarize the results of our committed outlier-cleanup..."
   ]
  },
  {
   "cell_type": "code",
   "execution_count": 18,
   "metadata": {},
   "outputs": [
    {
     "data": {
      "text/html": [
       "Outlier values for <b>Quantity</b> (IQR lb: -20.0, IQR ub: 60.0) for discount=0.0: []"
      ],
      "text/plain": [
       "<IPython.core.display.HTML object>"
      ]
     },
     "metadata": {},
     "output_type": "display_data"
    },
    {
     "data": {
      "text/html": [
       "Outlier values for <b>Quantity</b> (IQR lb: -10.0, IQR ub: 54.0) for discount=0.05: [55, 56, 60, 65, 70, 77]"
      ],
      "text/plain": [
       "<IPython.core.display.HTML object>"
      ]
     },
     "metadata": {},
     "output_type": "display_data"
    },
    {
     "data": {
      "text/html": [
       "Outlier values for <b>Quantity</b> (IQR lb: -20.0, IQR ub: 60.0) for discount=0.1: []"
      ],
      "text/plain": [
       "<IPython.core.display.HTML object>"
      ]
     },
     "metadata": {},
     "output_type": "display_data"
    },
    {
     "data": {
      "text/html": [
       "Outlier values for <b>Quantity</b> (IQR lb: -15.0, IQR ub: 65.0) for discount=0.15: [66, 70]"
      ],
      "text/plain": [
       "<IPython.core.display.HTML object>"
      ]
     },
     "metadata": {},
     "output_type": "display_data"
    },
    {
     "data": {
      "text/html": [
       "Outlier values for <b>Quantity</b> (IQR lb: -30.0, IQR ub: 82.0) for discount=0.2: []"
      ],
      "text/plain": [
       "<IPython.core.display.HTML object>"
      ]
     },
     "metadata": {},
     "output_type": "display_data"
    },
    {
     "data": {
      "text/html": [
       "Outlier values for <b>Quantity</b> (IQR lb: -15.0, IQR ub: 65.0) for discount=0.25: []"
      ],
      "text/plain": [
       "<IPython.core.display.HTML object>"
      ]
     },
     "metadata": {},
     "output_type": "display_data"
    },
    {
     "name": "stdout",
     "output_type": "stream",
     "text": [
      "\n",
      "there are 1 records with Quantity outlier value 55 for discount 0.05\n",
      "there are 1 records with Quantity outlier value 56 for discount 0.05\n",
      "there are 9 records with Quantity outlier value 60 for discount 0.05\n",
      "there are 1 records with Quantity outlier value 65 for discount 0.05\n",
      "there are 6 records with Quantity outlier value 70 for discount 0.05\n",
      "there are 1 records with Quantity outlier value 77 for discount 0.05\n",
      "there are 1 records with Quantity outlier value 66 for discount 0.15\n",
      "there are 4 records with Quantity outlier value 70 for discount 0.15\n",
      "\n",
      "dropping 74 observations with outlier Quantity values from 2155 starting observations yields an effect size of 0.11389943135244662 with 24/2081 outliers remaining\n"
     ]
    }
   ],
   "source": [
    "n_start = len(order_detail_df)\n",
    "n_end = len(order_detail_qty_outliers_removed_df)\n",
    "n_dropped = n_start - n_end\n",
    "\n",
    "d_kwargs['n_outliers_remaining'] = 0\n",
    "handle_qty_outliers(\n",
    "    order_detail_qty_outliers_removed_df\n",
    "    , get_qty_outlier_vals_by_discount('order_detail_qty_outliers_removed_df')\n",
    "    , count_index_handler\n",
    "    , d_kwargs\n",
    ")\n",
    "\n",
    "print(f\"\\ndropping {n_dropped} observations with outlier Quantity values from {n_start} starting observations yields an effect size of {cd} with {d_kwargs['n_outliers_remaining']}/{n_end} outliers remaining\")"
   ]
  },
  {
   "cell_type": "markdown",
   "metadata": {},
   "source": [
    "This is definitely acceptable.\n",
    "\n",
    "At this point, we have done all the work necessary in order to scrub **OrderDetail** data.\n",
    "\n",
    "Let's move on..."
   ]
  },
  {
   "cell_type": "markdown",
   "metadata": {},
   "source": [
    "<br><br>\n",
    "\n",
    "## Partition data into subsets with Discount == 0 and Discount > 0 and consider only those products appearing on discounted orders\n",
    "\n",
    "We want to compare apples to apples, here.\n",
    "\n",
    "So, in addition to partitioning based on whether an order has a **Discount** or not, we will also consider only those non-discounted orders containing the same products as those appearing on discounted orders."
   ]
  },
  {
   "cell_type": "code",
   "execution_count": 19,
   "metadata": {},
   "outputs": [],
   "source": [
    "orders_with_discount_df = pysqldfmgr.pysqldf(f\"SELECT * FROM order_detail_qty_outliers_removed_df WHERE Discount>0\")\n",
    "distinct_discounted_products_df = pysqldfmgr.pysqldf(f\"SELECT DISTINCT ProductId FROM orders_with_discount_df\")\n",
    "orders_without_discount_df = pysqldfmgr.pysqldf(f\"\"\"\n",
    "    SELECT * \n",
    "    FROM order_detail_qty_outliers_removed_df \n",
    "    WHERE Discount=0 AND ProductId IN (SELECT * FROM distinct_discounted_products_df)\n",
    "\"\"\")\n",
    "\n",
    "# out of curiosity...\n",
    "# orders_not_discounted_with_products_never_discounted = pysqldfmgr.pysqldf(f\"SELECT * FROM order_detail_qty_outliers_removed_df WHERE Discount=0 AND ProductId NOT IN (SELECT * FROM distinct_discounted_products_df)\")\n",
    "# scjpnutils.print_df(orders_not_discounted_with_products_never_discounted)"
   ]
  },
  {
   "cell_type": "markdown",
   "metadata": {},
   "source": [
    "## Test Hypotheses\n",
    "\n",
    "We will execute our battery of hypothesis tests against the groups with and without discounts as a whole.\n",
    "\n",
    "Each of these tests will operate on the mean Quantity."
   ]
  },
  {
   "cell_type": "code",
   "execution_count": 20,
   "metadata": {},
   "outputs": [
    {
     "data": {
      "text/markdown": [
       "$\\mu=20.02$"
      ],
      "text/plain": [
       "<IPython.core.display.Markdown object>"
      ]
     },
     "metadata": {},
     "output_type": "display_data"
    },
    {
     "data": {
      "text/markdown": [
       "$\\mu_d=24.81$"
      ],
      "text/plain": [
       "<IPython.core.display.Markdown object>"
      ]
     },
     "metadata": {},
     "output_type": "display_data"
    }
   ],
   "source": [
    "mu_no_discount = orders_without_discount_df.Quantity.mean()\n",
    "mu_discount = orders_with_discount_df.Quantity.mean()\n",
    "\n",
    "display(Markdown(f\"$\\mu={round(mu_no_discount,2)}$\"))\n",
    "display(Markdown(f\"$\\mu_d={round(mu_discount,2)}$\"))"
   ]
  },
  {
   "cell_type": "markdown",
   "metadata": {},
   "source": [
    "Let's have a look at the distributions to get a visual feel for how they match up to the above."
   ]
  },
  {
   "cell_type": "code",
   "execution_count": 21,
   "metadata": {},
   "outputs": [
    {
     "data": {
      "image/png": "[encoded data removed]",
      "text/plain": [
       "<Figure size 864x720 with 1 Axes>"
      ]
     },
     "metadata": {},
     "output_type": "display_data"
    }
   ],
   "source": [
    "fig = plt.figure(figsize=(12,10))\n",
    "sns.distplot(orders_without_discount_df.Quantity, hist_kws={'alpha':0.25}, color=\"r\", label=\"non-discounted orders\")\n",
    "sns.distplot(orders_with_discount_df.Quantity, hist_kws={'alpha':0.25}, color=\"g\", label=\"discounted orders\")\n",
    "plt.legend()\n",
    "fig.tight_layout()\n",
    "plt.show();"
   ]
  },
  {
   "cell_type": "markdown",
   "metadata": {},
   "source": [
    "Visually speaking, these distributions are clearly not normal.  \n",
    "\n",
    "Additionally, we can see that **the distribution of Quantity values for products on discounted orders consistently trend to the right a bit more than they do for *the same products* on non-discounted orders**."
   ]
  },
  {
   "cell_type": "markdown",
   "metadata": {},
   "source": [
    "### Cohen's D: Measure the effect size of difference in means"
   ]
  },
  {
   "cell_type": "code",
   "execution_count": 22,
   "metadata": {},
   "outputs": [
    {
     "data": {
      "text/plain": [
       "-0.3224030529118955"
      ]
     },
     "execution_count": 22,
     "metadata": {},
     "output_type": "execute_result"
    }
   ],
   "source": [
    "Cohen_d(orders_without_discount_df.Quantity, orders_with_discount_df.Quantity)"
   ]
  },
  {
   "cell_type": "markdown",
   "metadata": {},
   "source": [
    "Since ***Cohen's D*** is negative, this confirms that indeed $\\mu_d > \\mu$ and the effect size can be considered moderate.\n",
    "\n",
    "This ***Cohen's D*** measure seems to be inline with the observations we made visually above."
   ]
  },
  {
   "cell_type": "markdown",
   "metadata": {},
   "source": [
    "<br>\n",
    "\n",
    "### Two-Sample T-Test: used to determine if the means of two samples of equal size and variance are equal\n",
    "\n",
    "According to the `scipy.stats.ttest_ind` documentation:\n",
    "\n",
    "    This is a two-sided test for the null hypothesis that 2 independent samples have identical average (expected) values. This test assumes that the populations have identical variances by default.\n",
    "\n",
    "Assumptions made when applying a Two-Sample T-Test:\n",
    "\n",
    "1. Populations/samples are independent.\n",
    "2. Sizes of samples are equal.\n",
    "3. Variances of samples are equal.\n",
    "4. Distributions are normal.\n",
    "\n",
    "We would like to apply this test given that our two samples are indeed independent.\n",
    "\n",
    "But as we saw above, the distributions clearly do not appear to be normal.\n",
    "\n",
    "So, intution tells us that we cannot apply this test.\n",
    "\n",
    "But, we want to be thorough, so let's check whether or not our samples *officially* meet the requirements to apply this test.\n",
    "\n",
    "We'll test for normality first since we already have a visual feel for this result.\n",
    "\n",
    "<br>\n",
    "\n",
    "#### Are the distributions of our samples normal?\n",
    "\n",
    "We will test this by running `scipy.stats.normaltest` on each partition.\n",
    "\n",
    "**This test (the null hypothesis) assumes that the distribution is NOT normal.**\n",
    "\n",
    "Thus, if the p-value returned is greater than significance the level (0.05), the null hypothesis is rejected - i.e. the distribution IS normal."
   ]
  },
  {
   "cell_type": "code",
   "execution_count": 23,
   "metadata": {},
   "outputs": [],
   "source": [
    "def format_pval_result(p_val, alpha, s):\n",
    "    return \"$p\\\\_val\\\\ ({}) {} \\\\alpha\\\\ ({}) \\\\implies$ {}\".format(p_val, \"<\" if p_val < alpha else \"\\\\ge\", alpha, s)"
   ]
  },
  {
   "cell_type": "code",
   "execution_count": 24,
   "metadata": {},
   "outputs": [
    {
     "data": {
      "text/markdown": [
       "$p\\_val\\ (4.404118427297491e-32) < \\alpha\\ (0.05) \\implies$ distribution of Quantity values for orders without discounts is NOT normal"
      ],
      "text/plain": [
       "<IPython.core.display.Markdown object>"
      ]
     },
     "metadata": {},
     "output_type": "display_data"
    },
    {
     "data": {
      "text/markdown": [
       "$p\\_val\\ (1.504198946335853e-19) < \\alpha\\ (0.05) \\implies$ distribution of Quantity values for orders WITH discounts is NOT normal"
      ],
      "text/plain": [
       "<IPython.core.display.Markdown object>"
      ]
     },
     "metadata": {},
     "output_type": "display_data"
    }
   ],
   "source": [
    "alpha = 0.05\n",
    "\n",
    "sk, p_val = stats.normaltest(orders_without_discount_df.Quantity)\n",
    "display(Markdown(format_pval_result(p_val, alpha, f\"distribution of Quantity values for orders without discounts {'is NOT' if p_val < alpha else 'IS'} normal\")))\n",
    "\n",
    "sk_d, p_val_d = stats.normaltest(orders_with_discount_df.Quantity)\n",
    "display(Markdown(format_pval_result(p_val_d, alpha, f\"distribution of Quantity values for orders WITH discounts {'is NOT' if p_val_d < alpha else 'IS'} normal\")))"
   ]
  },
  {
   "cell_type": "markdown",
   "metadata": {},
   "source": [
    "Therefore, because the distributions of the samples are not normal, we cannot apply the <b><i>Two-sample T-Test</i></b>.\n",
    "\n",
    "But, for the sake of completeness, let's check the other assumptions.\n",
    "\n",
    "<br>\n",
    "\n",
    "#### Are samples the same size?"
   ]
  },
  {
   "cell_type": "code",
   "execution_count": 25,
   "metadata": {},
   "outputs": [
    {
     "name": "stdout",
     "output_type": "stream",
     "text": [
      "The set of orders without a discount has 1283 observations.\n",
      "The set of orders WITH a discount has 798 observations.\n"
     ]
    },
    {
     "data": {
      "text/markdown": [
       "<br>Samples are same size? False"
      ],
      "text/plain": [
       "<IPython.core.display.Markdown object>"
      ]
     },
     "metadata": {},
     "output_type": "display_data"
    }
   ],
   "source": [
    "n_no_discount = len(orders_without_discount_df)\n",
    "print(f\"The set of orders without a discount has {n_no_discount} observations.\")\n",
    "n_discounted = len(orders_with_discount_df)\n",
    "print(f\"The set of orders WITH a discount has {n_discounted} observations.\")\n",
    "display(Markdown(f\"<br>Samples are same size? {n_no_discount==n_discounted}\"))"
   ]
  },
  {
   "cell_type": "markdown",
   "metadata": {},
   "source": [
    "Therefore, because the samples are not the same size, we cannot apply the <b><i>Two-sample T-Test</i></b>.\n",
    "\n",
    "Again, for the sake of completeness, let's check the other assumptions.\n",
    "\n",
    "<br>\n",
    "\n",
    "#### Do the samples have the same variance?\n",
    "\n",
    "Note that it would likely be naive simply to check for equality of `np.variance` since that does not consider allowing some small error.\n",
    "\n",
    "Thus, we turn to `scipy.stats.levene` since, according to its documentation:\n",
    "\n",
    "    The Levene test tests the null hypothesis that all input samples are from populations with equal variances. Levene’s test is an alternative to Bartlett’s test in the case where there are significant deviations from normality.\n",
    "    \n",
    "And, since we have indeed confirmed (above) that the distributions are not normal, Levene's test is appropriate.\n",
    "\n",
    "**This test (the null hypothesis) assumes that the samples are NOT from populations with equal variances.**\n",
    "\n",
    "Just out of curiosity, let's first check using `np.variance`:"
   ]
  },
  {
   "cell_type": "code",
   "execution_count": 26,
   "metadata": {},
   "outputs": [
    {
     "name": "stdout",
     "output_type": "stream",
     "text": [
      "The set of orders without a discount has variance: 192.93108938824088.\n",
      "The set of orders WITH a discount has variance: 265.5494076670373.\n"
     ]
    },
    {
     "data": {
      "text/markdown": [
       "$p\\_val\\ (1.504198946335853e-19) < \\alpha\\ (0.05) \\implies$ sample are NOT from populations with equal variances."
      ],
      "text/plain": [
       "<IPython.core.display.Markdown object>"
      ]
     },
     "metadata": {},
     "output_type": "display_data"
    }
   ],
   "source": [
    "v_no_discount = np.var(orders_without_discount_df.Quantity)\n",
    "print(f\"The set of orders without a discount has variance: {v_no_discount}.\")\n",
    "v_discounted = np.var(orders_with_discount_df.Quantity)\n",
    "print(f\"The set of orders WITH a discount has variance: {v_discounted}.\")\n",
    "\n",
    "l_stat, p_val = stats.levene(orders_without_discount_df.Quantity, orders_with_discount_df.Quantity, center='mean')\n",
    "display(Markdown(format_pval_result(p_val_d, alpha, f\"sample {'are NOT' if p_val_d < alpha else 'ARE'} from populations with equal variances.\")))"
   ]
  },
  {
   "cell_type": "markdown",
   "metadata": {},
   "source": [
    "Therefore, because the samples are NOT from populations with equal variances, we cannot apply the <b><i>Two-sample T-Test</i></b>."
   ]
  },
  {
   "cell_type": "markdown",
   "metadata": {},
   "source": [
    "<br><br>\n",
    "\n",
    "### Welch's Test: used to determine if two sample means with unequal variance are equal\n",
    "\n",
    "We can pass `equal_var=False` to `scipy.stats.ttest_ind` to perform ***Welch's Test***.\n",
    "\n",
    "According to the documentation:\n",
    "\n",
    "    If [equal_var=]False, perform Welch’s t-test, which does not assume equal population variance.\n",
    "    \n",
    "As we have seen above, the samples are not from populations with equal variances.\n",
    "\n",
    "Therefore, it is appropriate to apply ***Welch's Test*** in this case."
   ]
  },
  {
   "cell_type": "code",
   "execution_count": 27,
   "metadata": {},
   "outputs": [
    {
     "data": {
      "text/markdown": [
       "$p\\_val\\ (1.504198946335853e-19) < \\alpha\\ (0.05) \\implies$ $\\mu_d >\\mu$."
      ],
      "text/plain": [
       "<IPython.core.display.Markdown object>"
      ]
     },
     "metadata": {},
     "output_type": "display_data"
    }
   ],
   "source": [
    "t_stat, p_val = stats.ttest_ind(orders_without_discount_df.Quantity, orders_with_discount_df.Quantity, equal_var=False)\n",
    "# s_md = f\"p-val={p_val} $\" + (\"<\" if p_val_d < alpha else \"\\\\ge\") + f\"{alpha} \\\\implies \\\\mu_d \" + (\">\" if p_val_d < alpha else \"=\") + \"\\\\mu$\"\n",
    "# display(Markdown(s_md))\n",
    "\n",
    "display(Markdown(format_pval_result(p_val_d, alpha, \"$\\\\mu_d \" + (\">\" if p_val_d < alpha else \"=\") + \"\\\\mu$.\")))"
   ]
  },
  {
   "cell_type": "markdown",
   "metadata": {},
   "source": [
    "Thus, with ***Welch's Test***, the null hypothesis is rejected and the alternate hypothesis is accepted.\n",
    "\n",
    "That is, the hypothesis that **discount amount DOES have a statistically significant effect on the quantity of a product ordered** is accepted.\n",
    "\n",
    "With this result, we have answered the first part of our goal-question.\n",
    "\n",
    "Now let's move on to answer the second part:\n",
    "\n",
    "    If so, at what level(s) of discount?"
   ]
  },
  {
   "cell_type": "code",
   "execution_count": null,
   "metadata": {},
   "outputs": [],
   "source": []
  },
  {
   "cell_type": "code",
   "execution_count": 29,
   "metadata": {},
   "outputs": [
    {
     "data": {
      "text/html": [
       "<div>\n",
       "<style scoped>\n",
       "    .dataframe tbody tr th:only-of-type {\n",
       "        vertical-align: middle;\n",
       "    }\n",
       "\n",
       "    .dataframe tbody tr th {\n",
       "        vertical-align: top;\n",
       "    }\n",
       "\n",
       "    .dataframe thead th {\n",
       "        text-align: right;\n",
       "    }\n",
       "</style>\n",
       "<table border=\"1\" class=\"dataframe\">\n",
       "  <thead>\n",
       "    <tr style=\"text-align: right;\">\n",
       "      <th></th>\n",
       "      <th>count</th>\n",
       "      <th>mean</th>\n",
       "      <th>std</th>\n",
       "      <th>min</th>\n",
       "      <th>25%</th>\n",
       "      <th>50%</th>\n",
       "      <th>75%</th>\n",
       "      <th>max</th>\n",
       "    </tr>\n",
       "    <tr>\n",
       "      <th>Discount</th>\n",
       "      <th></th>\n",
       "      <th></th>\n",
       "      <th></th>\n",
       "      <th></th>\n",
       "      <th></th>\n",
       "      <th></th>\n",
       "      <th></th>\n",
       "      <th></th>\n",
       "    </tr>\n",
       "  </thead>\n",
       "  <tbody>\n",
       "    <tr>\n",
       "      <th>0.00</th>\n",
       "      <td>1283.0</td>\n",
       "      <td>20.017927</td>\n",
       "      <td>13.895380</td>\n",
       "      <td>1.0</td>\n",
       "      <td>10.0</td>\n",
       "      <td>18.0</td>\n",
       "      <td>30.0</td>\n",
       "      <td>60.0</td>\n",
       "    </tr>\n",
       "    <tr>\n",
       "      <th>0.05</th>\n",
       "      <td>178.0</td>\n",
       "      <td>25.348315</td>\n",
       "      <td>17.669663</td>\n",
       "      <td>1.0</td>\n",
       "      <td>14.0</td>\n",
       "      <td>20.0</td>\n",
       "      <td>30.0</td>\n",
       "      <td>77.0</td>\n",
       "    </tr>\n",
       "    <tr>\n",
       "      <th>0.10</th>\n",
       "      <td>164.0</td>\n",
       "      <td>21.640244</td>\n",
       "      <td>13.892615</td>\n",
       "      <td>2.0</td>\n",
       "      <td>10.0</td>\n",
       "      <td>20.0</td>\n",
       "      <td>30.0</td>\n",
       "      <td>60.0</td>\n",
       "    </tr>\n",
       "    <tr>\n",
       "      <th>0.15</th>\n",
       "      <td>150.0</td>\n",
       "      <td>25.586667</td>\n",
       "      <td>16.699149</td>\n",
       "      <td>2.0</td>\n",
       "      <td>15.0</td>\n",
       "      <td>20.5</td>\n",
       "      <td>35.0</td>\n",
       "      <td>70.0</td>\n",
       "    </tr>\n",
       "    <tr>\n",
       "      <th>0.20</th>\n",
       "      <td>159.0</td>\n",
       "      <td>26.169811</td>\n",
       "      <td>17.309618</td>\n",
       "      <td>2.0</td>\n",
       "      <td>12.0</td>\n",
       "      <td>21.0</td>\n",
       "      <td>40.0</td>\n",
       "      <td>80.0</td>\n",
       "    </tr>\n",
       "    <tr>\n",
       "      <th>0.25</th>\n",
       "      <td>147.0</td>\n",
       "      <td>25.435374</td>\n",
       "      <td>15.294850</td>\n",
       "      <td>2.0</td>\n",
       "      <td>15.0</td>\n",
       "      <td>21.0</td>\n",
       "      <td>35.0</td>\n",
       "      <td>65.0</td>\n",
       "    </tr>\n",
       "  </tbody>\n",
       "</table>\n",
       "</div>"
      ],
      "text/plain": [
       "           count       mean        std  min   25%   50%   75%   max\n",
       "Discount                                                           \n",
       "0.00      1283.0  20.017927  13.895380  1.0  10.0  18.0  30.0  60.0\n",
       "0.05       178.0  25.348315  17.669663  1.0  14.0  20.0  30.0  77.0\n",
       "0.10       164.0  21.640244  13.892615  2.0  10.0  20.0  30.0  60.0\n",
       "0.15       150.0  25.586667  16.699149  2.0  15.0  20.5  35.0  70.0\n",
       "0.20       159.0  26.169811  17.309618  2.0  12.0  21.0  40.0  80.0\n",
       "0.25       147.0  25.435374  15.294850  2.0  15.0  21.0  35.0  65.0"
      ]
     },
     "execution_count": 29,
     "metadata": {},
     "output_type": "execute_result"
    }
   ],
   "source": [
    "order_detail_qty_outliers_removed_df.Quantity.groupby(order_detail_qty_outliers_removed_df.Discount).describe()"
   ]
  },
  {
   "cell_type": "code",
   "execution_count": 30,
   "metadata": {},
   "outputs": [
    {
     "name": "stdout",
     "output_type": "stream",
     "text": [
      "                    sum_sq      df          F        PR(>F)\n",
      "C(Discount)   13443.060510     5.0  12.199646  1.125178e-11\n",
      "Residual     457297.691052  2075.0        NaN           NaN\n"
     ]
    }
   ],
   "source": [
    "# this is for combined - i.e. data set includes no discount\n",
    "\n",
    "q1b_results = ols('Quantity ~ C(Discount)', data=order_detail_qty_outliers_removed_df).fit()\n",
    "q1b_anova_table = sm.stats.anova_lm(q1b_results, typ=2)\n",
    "print(q1b_anova_table)"
   ]
  },
  {
   "cell_type": "markdown",
   "metadata": {},
   "source": [
    "## References\n",
    "\n",
    "Mason, H., & Wiggins, C. Data Science Process [Image]. Retrieved from https://miro.medium.com/max/3870/1*eE8DP4biqtaIK3aIy1S2zA.png"
   ]
  }
 ],
 "metadata": {
  "file_extension": ".py",
  "kernelspec": {
   "display_name": "Python 3.7.6 64-bit ('learn-env': conda)",
   "language": "python",
   "name": "python37664bitlearnenvconda70f0b4d48d474c1cba77a4611cdb5f3c"
  },
  "language_info": {
   "codemirror_mode": {
    "name": "ipython",
    "version": 3
   },
   "file_extension": ".py",
   "mimetype": "text/x-python",
   "name": "python",
   "nbconvert_exporter": "python",
   "pygments_lexer": "ipython3",
   "version": "3.7.6"
  },
  "mimetype": "text/x-python",
  "name": "python",
  "npconvert_exporter": "python",
  "pygments_lexer": "ipython3",
  "version": 3
 },
 "nbformat": 4,
 "nbformat_minor": 4
}
